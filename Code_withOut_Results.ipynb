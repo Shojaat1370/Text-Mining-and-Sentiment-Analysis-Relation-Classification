{
 "cells": [
  {
   "cell_type": "markdown",
   "metadata": {
    "id": "XmyhZ8X9B8rd"
   },
   "source": [
    "# **Project: Relation Classification**\n",
    "\n",
    "\n",
    "## ----- **Text Mining and Sentiment Analysis Course** ----\n",
    "\n",
    "\n",
    "\n",
    "## **Steps**:\n",
    "   ### Step 1: Data Loading and Data Exploration\n",
    "   ### Step 2: Data Preprocessing\n",
    "   ### Step 3: Models' Architecture\n",
    "   ### Step 4: Important Functions\n",
    "   ### Step 5: Training Models\n",
    "   ### Step 6: Knowledge Graph\n",
    "\n",
    "\n",
    "**Dataset:** relation-extraction-corpus ([link](https://code.google.com/archive/p/relation-extraction-corpus/downloads))\n",
    "\n",
    "\n",
    "\n",
    "\n",
    "### **Shojaat Joodi Bigdilo**\n",
    "\n",
    "July 2024\n"
   ]
  },
  {
   "cell_type": "code",
   "execution_count": null,
   "metadata": {
    "colab": {
     "base_uri": "https://localhost:8080/"
    },
    "id": "w9Zv6ySJNm4z",
    "outputId": "78b0d28a-514d-4fc7-e107-c46cbc94a2bb"
   },
   "outputs": [],
   "source": [
    "from google.colab import drive\n",
    "drive.mount('/content/gdrive',force_remount=True)"
   ]
  },
  {
   "cell_type": "code",
   "execution_count": null,
   "metadata": {
    "colab": {
     "base_uri": "https://localhost:8080/"
    },
    "id": "7tmaDLYINTPO",
    "outputId": "add492a0-c7e4-4912-da3f-b49ac9a99bcb"
   },
   "outputs": [],
   "source": [
    "pip install transformers"
   ]
  },
  {
   "cell_type": "code",
   "execution_count": null,
   "metadata": {
    "colab": {
     "base_uri": "https://localhost:8080/"
    },
    "id": "id8BdqlRNTPT",
    "outputId": "0bbd1cee-05c4-48f4-c557-faa5f0c9ef30"
   },
   "outputs": [],
   "source": [
    "pip install torchtext"
   ]
  },
  {
   "cell_type": "code",
   "execution_count": null,
   "metadata": {
    "id": "9mQczERQNTPe"
   },
   "outputs": [],
   "source": [
    "import torch\n",
    "from torch import nn\n",
    "from torch.utils.data import DataLoader, Dataset\n",
    "from torch.utils.data import TensorDataset, Subset\n",
    "\n",
    "import torchtext\n",
    "torchtext.disable_torchtext_deprecation_warning()\n",
    "from torchtext.data.utils import get_tokenizer\n",
    "from torchtext.vocab import build_vocab_from_iterator\n",
    "\n",
    "from transformers import BertModel\n",
    "from transformers import BertTokenizer, BertForSequenceClassification\n",
    "from transformers import AdamW\n",
    "from transformers import BertTokenizer\n",
    "\n",
    "from collections import Counter\n",
    "import random\n",
    "import seaborn as sns\n",
    "import matplotlib.pyplot as plt\n",
    "import pandas as pd\n",
    "import numpy as np\n",
    "\n",
    "from sklearn.model_selection import train_test_split\n",
    "from sklearn.utils import shuffle\n",
    "from sklearn.metrics import classification_report\n",
    "from sklearn.metrics import confusion_matrix"
   ]
  },
  {
   "cell_type": "markdown",
   "metadata": {
    "id": "bMllt1C6Aw8-"
   },
   "source": [
    "## **Step1: Data Loading and Exploration**"
   ]
  },
  {
   "cell_type": "code",
   "execution_count": null,
   "metadata": {
    "id": "1sPD41kns5YC"
   },
   "outputs": [],
   "source": [
    "import json\n",
    "\n",
    "# Example file paths\n",
    "date_of_birth_file = \"/content/gdrive/My Drive/Text_Mining/dob_augment-200526.json\"\n",
    "education_file = \"/content/gdrive/My Drive/Text_Mining/education_augment-200526.json\"\n",
    "place_of_death_file = \"/content/gdrive/My Drive/Text_Mining/pod_augment-200526.json\"\n",
    "place_of_birth_file = \"/content/gdrive/My Drive/Text_Mining/pob_augment-200526.json\"\n",
    "institution_file =  \"/content/gdrive/My Drive/Text_Mining/institution_augment-200526.json\"\n",
    "\n",
    "\n",
    "# Load the datasets\n",
    "def load_dataset(file_path):\n",
    "    with open(file_path, 'r') as f:\n",
    "        return json.load(f)\n",
    "\n",
    "\n",
    "# Load data\n",
    "date_of_birth_data = load_dataset(date_of_birth_file)\n",
    "education_data = load_dataset(education_file)\n",
    "place_of_death_data = load_dataset(place_of_death_file)\n",
    "place_of_birth_data = load_dataset(place_of_birth_file)\n",
    "institution_data = load_dataset(institution_file)"
   ]
  },
  {
   "cell_type": "code",
   "execution_count": null,
   "metadata": {
    "id": "BcP8X7-stNHv"
   },
   "outputs": [],
   "source": [
    "# Combine datasets into one list\n",
    "data = date_of_birth_data + education_data + place_of_death_data + place_of_birth_data + institution_data"
   ]
  },
  {
   "cell_type": "code",
   "execution_count": null,
   "metadata": {
    "colab": {
     "base_uri": "https://localhost:8080/"
    },
    "id": "Tp-2ftROmU0r",
    "outputId": "37cc94cc-08b8-4087-a25d-ed77fe989915"
   },
   "outputs": [],
   "source": [
    "data[0]"
   ]
  },
  {
   "cell_type": "code",
   "execution_count": null,
   "metadata": {
    "id": "NPVDZckSnwQq"
   },
   "outputs": [],
   "source": [
    "# Define the mapping dictionary\n",
    "pred_mapping = {\n",
    "    '/people/person/education./education/education/institution': 'institution',\n",
    "    '/people/person/date_of_birth': 'date_of_birth',\n",
    "    '/people/person/education./education/education/degree': 'degree',\n",
    "    '/people/deceased_person/place_of_death': 'place_of_death',\n",
    "    '/people/person/place_of_birth': 'place_of_birth'\n",
    "}\n",
    "\n",
    "# Extract the relevant information\n",
    "extracted_data = []\n",
    "for entry in data:\n",
    "    if entry['pred'] in pred_mapping:\n",
    "        extracted_data.append({\n",
    "            'pred': pred_mapping[entry['pred']],\n",
    "            'sub': entry['sub'],\n",
    "            'obj': entry['obj'],\n",
    "            'evidences': entry['evidences']\n",
    "        })\n",
    "\n",
    "# assign again\n",
    "data = extracted_data"
   ]
  },
  {
   "cell_type": "code",
   "execution_count": null,
   "metadata": {
    "colab": {
     "base_uri": "https://localhost:8080/"
    },
    "id": "shNv2F3foi6V",
    "outputId": "8a5815a7-a626-4c46-dc73-a2a078ec047a"
   },
   "outputs": [],
   "source": [
    "data[0]"
   ]
  },
  {
   "cell_type": "markdown",
   "metadata": {
    "id": "Wq5oI9HWBKQX"
   },
   "source": [
    "## **Data Exploration**"
   ]
  },
  {
   "cell_type": "code",
   "execution_count": null,
   "metadata": {
    "colab": {
     "base_uri": "https://localhost:8080/",
     "height": 206
    },
    "id": "wwJWTMm3BSVl",
    "outputId": "416b3d11-f820-48c5-caad-92ba5f5604f3"
   },
   "outputs": [],
   "source": [
    "df = pd.DataFrame(data)\n",
    "df.head()"
   ]
  },
  {
   "cell_type": "code",
   "execution_count": null,
   "metadata": {
    "colab": {
     "base_uri": "https://localhost:8080/"
    },
    "id": "mKVrZQDWBawL",
    "outputId": "224c44f3-a353-4019-8f7a-d6ff7fa55ffc"
   },
   "outputs": [],
   "source": [
    "# Check for missing values\n",
    "print(df.isnull().sum())"
   ]
  },
  {
   "cell_type": "code",
   "execution_count": null,
   "metadata": {
    "colab": {
     "base_uri": "https://localhost:8080/"
    },
    "id": "VexnZb02twKv",
    "outputId": "07433b98-a7e6-41c6-d9a8-27dc7a085c49"
   },
   "outputs": [],
   "source": [
    "from collections import Counter\n",
    "\n",
    "# Extract relations\n",
    "relations = [entry['pred'] for entry in data]\n",
    "relation_counts = Counter(relations)\n",
    "print(relation_counts)"
   ]
  },
  {
   "cell_type": "code",
   "execution_count": null,
   "metadata": {
    "colab": {
     "base_uri": "https://localhost:8080/"
    },
    "id": "e00Eucu2BVDL",
    "outputId": "27617ba3-6650-4879-f7b8-430d59b8ec0f"
   },
   "outputs": [],
   "source": [
    "# Explore the distribution of relation types\n",
    "relation_counter = df['pred'].value_counts()\n",
    "relation_counter"
   ]
  },
  {
   "cell_type": "markdown",
   "metadata": {
    "id": "TQXPpsePBnlM"
   },
   "source": [
    "## **Step 2: Data Preprocessing**"
   ]
  },
  {
   "cell_type": "code",
   "execution_count": null,
   "metadata": {
    "colab": {
     "base_uri": "https://localhost:8080/"
    },
    "id": "g5TnOFyCto0k",
    "outputId": "4f9aa69f-80fb-47cd-c23c-6317c9af81b2"
   },
   "outputs": [],
   "source": [
    "relations = [entry['pred'] for entry in data]\n",
    "relation_counts = Counter(relations)\n",
    "\n",
    "# Define the target size for each class (e.g., the size of the smallest class)\n",
    "target_size = min(relation_counts.values())\n",
    "print(f'Target size for under-sampling: {target_size}')\n",
    "\n",
    "# Create a list to store the under-sampled data\n",
    "under_sampled_data = []\n",
    "\n",
    "# Under-sample each relation\n",
    "for relation in relation_counts:\n",
    "    class_data = [entry for entry in data if entry['pred'] == relation]\n",
    "    if len(class_data) > target_size:\n",
    "        class_data = shuffle(class_data)[:target_size]\n",
    "    under_sampled_data.extend(class_data)\n",
    "\n",
    "\n",
    "# Shuffle the final under-sampled dataset\n",
    "under_sampled_data = shuffle(under_sampled_data)"
   ]
  },
  {
   "cell_type": "code",
   "execution_count": null,
   "metadata": {
    "colab": {
     "base_uri": "https://localhost:8080/"
    },
    "id": "K5PLUB4XxUVo",
    "outputId": "44302087-8894-4545-e30f-3a7c1e6bce5c"
   },
   "outputs": [],
   "source": [
    "len(under_sampled_data)"
   ]
  },
  {
   "cell_type": "code",
   "execution_count": null,
   "metadata": {
    "id": "lwUB0W-X1PsI"
   },
   "outputs": [],
   "source": [
    "# Extract relations and sentences in new under-sampled dataset\n",
    "sentences = [entry['evidences'][0]['snippet'] for entry in under_sampled_data]\n",
    "labels = [entry['pred'] for entry in under_sampled_data]"
   ]
  },
  {
   "cell_type": "code",
   "execution_count": null,
   "metadata": {
    "colab": {
     "base_uri": "https://localhost:8080/"
    },
    "id": "uggZW3aMNTP6",
    "outputId": "91180fd2-c2e7-43dc-c64b-f85aebcb8aba"
   },
   "outputs": [],
   "source": [
    "sentences[:3]"
   ]
  },
  {
   "cell_type": "code",
   "execution_count": null,
   "metadata": {
    "colab": {
     "base_uri": "https://localhost:8080/"
    },
    "id": "Ws36igguNTP7",
    "outputId": "2ca0550c-ea0a-4dcb-c7ee-68ccad022f45"
   },
   "outputs": [],
   "source": [
    "labels[:3]"
   ]
  },
  {
   "cell_type": "code",
   "execution_count": null,
   "metadata": {
    "id": "BaqfmxcN1Sc4"
   },
   "outputs": [],
   "source": [
    "# Convert labels to numerical format\n",
    "unique_labels = list(set(labels))\n",
    "label2id = {label: idx for idx, label in enumerate(unique_labels)}\n",
    "id2label = {idx: label for label, idx in label2id.items()}\n",
    "numerical_labels = [label2id[label] for label in labels]"
   ]
  },
  {
   "cell_type": "code",
   "execution_count": null,
   "metadata": {
    "colab": {
     "base_uri": "https://localhost:8080/"
    },
    "id": "-GBDeend1Ta8",
    "outputId": "5b662f49-6b35-450f-8361-d87b4f297f81"
   },
   "outputs": [],
   "source": [
    "unique_labels"
   ]
  },
  {
   "cell_type": "code",
   "execution_count": null,
   "metadata": {
    "colab": {
     "base_uri": "https://localhost:8080/"
    },
    "id": "ZzX7YvHU1VOG",
    "outputId": "11e54a86-e7be-434f-cf7d-2324f4d322f3"
   },
   "outputs": [],
   "source": [
    "label2id"
   ]
  },
  {
   "cell_type": "code",
   "execution_count": null,
   "metadata": {
    "colab": {
     "base_uri": "https://localhost:8080/"
    },
    "id": "udFfrbBV1XKX",
    "outputId": "2e593aa7-719f-44fc-efaf-811d3fd2e3ae"
   },
   "outputs": [],
   "source": [
    "id2label"
   ]
  },
  {
   "cell_type": "markdown",
   "metadata": {
    "id": "uPgx0vP2NTQC"
   },
   "source": [
    "### **Split Data**"
   ]
  },
  {
   "cell_type": "code",
   "execution_count": null,
   "metadata": {
    "id": "9wMVfN491euR"
   },
   "outputs": [],
   "source": [
    "X_train, X_test, y_train, y_test = train_test_split(sentences, numerical_labels, test_size=0.2, random_state=42)"
   ]
  },
  {
   "cell_type": "code",
   "execution_count": null,
   "metadata": {
    "colab": {
     "base_uri": "https://localhost:8080/"
    },
    "id": "Dv_bXAjj1x5C",
    "outputId": "dcfe3713-95a1-48a3-d6a0-408fe0394569"
   },
   "outputs": [],
   "source": [
    "# Checking the size of the splits\n",
    "print(f'Training samples: {len(X_train)}, Testing samples: {len(X_test)}')\n",
    "print(f\"Training data class distribution: {Counter(y_train)}\")\n",
    "print(f\"Testing data class distribution: {Counter(y_test)}\")"
   ]
  },
  {
   "cell_type": "code",
   "execution_count": null,
   "metadata": {
    "id": "heeqxabAMmkJ"
   },
   "outputs": [],
   "source": []
  },
  {
   "cell_type": "markdown",
   "metadata": {
    "id": "-lNt_jNIw2WF"
   },
   "source": [
    "# **Step3: All Models Architecture**"
   ]
  },
  {
   "cell_type": "markdown",
   "metadata": {
    "id": "-91kup87xevd"
   },
   "source": [
    "### **LSTM**"
   ]
  },
  {
   "cell_type": "code",
   "execution_count": null,
   "metadata": {
    "id": "39MmBeEDwwvR"
   },
   "outputs": [],
   "source": [
    "class LSTMClassifier(nn.Module):\n",
    "    def __init__(self, vocab_size, embedding_dim, hidden_dim, output_dim, n_layers=2, dropout=0.3):\n",
    "        super(LSTMClassifier, self).__init__()\n",
    "        self.embedding = nn.Embedding(vocab_size, embedding_dim, padding_idx=vocab['<pad>'])\n",
    "        self.lstm = nn.LSTM(embedding_dim, hidden_dim, num_layers=n_layers, dropout=dropout, batch_first=True)\n",
    "        self.dropout = nn.Dropout(dropout)\n",
    "        self.fc = nn.Linear(hidden_dim, output_dim)\n",
    "\n",
    "    def forward(self, x, lengths):\n",
    "        x = self.embedding(x)\n",
    "        packed_x = nn.utils.rnn.pack_padded_sequence(x, lengths.cpu(), batch_first=True, enforce_sorted=False)\n",
    "        packed_output, (hidden, _) = self.lstm(packed_x)\n",
    "        output = self.dropout(hidden[-1])\n",
    "        output = self.fc(output)\n",
    "        return output"
   ]
  },
  {
   "cell_type": "markdown",
   "metadata": {
    "id": "yxW6koTTxU6g"
   },
   "source": [
    "### **Bidirectional LSTM (BiLSTM)**"
   ]
  },
  {
   "cell_type": "code",
   "execution_count": null,
   "metadata": {
    "id": "LIcS0Ax6wwoS"
   },
   "outputs": [],
   "source": [
    "import torch\n",
    "import torch.nn as nn\n",
    "\n",
    "class BiLSTMClassifier(nn.Module):\n",
    "    def __init__(self, vocab_size, embedding_dim, hidden_dim, output_dim, n_layers=2, dropout=0.3):\n",
    "        super(BiLSTMClassifier, self).__init__()\n",
    "        self.embedding = nn.Embedding(vocab_size, embedding_dim, padding_idx=vocab['<pad>'])\n",
    "        # bidirectional=True , and in FC: hidden_dim * 2\n",
    "        self.lstm = nn.LSTM(embedding_dim, hidden_dim, num_layers=n_layers, dropout=dropout, batch_first=True, bidirectional=True)\n",
    "        self.dropout = nn.Dropout(dropout)\n",
    "        self.fc = nn.Linear(hidden_dim * 2, output_dim)\n",
    "\n",
    "    def forward(self, x, lengths):\n",
    "        x = self.embedding(x)\n",
    "        packed_x = nn.utils.rnn.pack_padded_sequence(x, lengths.cpu(), batch_first=True, enforce_sorted=False)\n",
    "        packed_output, (hidden, _) = self.lstm(packed_x)\n",
    "        hidden_cat = torch.cat((hidden[-2,:,:], hidden[-1,:,:]), dim=1)\n",
    "        output = self.dropout(hidden_cat)\n",
    "        output = self.fc(output)\n",
    "        return output\n"
   ]
  },
  {
   "cell_type": "markdown",
   "metadata": {
    "id": "8zlDqd_0xqlK"
   },
   "source": [
    " ### **BERT**"
   ]
  },
  {
   "cell_type": "code",
   "execution_count": null,
   "metadata": {
    "id": "4O_WnvBswwlL"
   },
   "outputs": [],
   "source": [
    "class BERTClassifier(nn.Module):\n",
    "    def __init__(self, num_labels):\n",
    "        super(BERTClassifier, self).__init__()\n",
    "        self.bert = BertModel.from_pretrained('bert-base-uncased')\n",
    "        self.classifier = nn.Linear(self.bert.config.hidden_size, num_labels)\n",
    "\n",
    "    def forward(self, input_ids, attention_mask):\n",
    "        outputs = self.bert(input_ids=input_ids, attention_mask=attention_mask)\n",
    "        cls_output = outputs.pooler_output  \n",
    "        logits = self.classifier(cls_output) \n",
    "        return logits"
   ]
  },
  {
   "cell_type": "markdown",
   "metadata": {
    "id": "vBeZu-jgyDqz"
   },
   "source": [
    " ### **BERT Larg, with more layers**"
   ]
  },
  {
   "cell_type": "code",
   "execution_count": null,
   "metadata": {
    "id": "8f8Q7w-6BqJO"
   },
   "outputs": [],
   "source": [
    "class BERTClassifier_Larg(nn.Module):\n",
    "    def __init__(self, num_labels):\n",
    "        super(BERTClassifier_Larg, self).__init__()\n",
    "        self.bert = BertModel.from_pretrained('bert-base-uncased')\n",
    "        self.dropout = nn.Dropout(p=0.2)\n",
    "        self.linear1 = nn.Linear(768,64)\n",
    "        self.ReLu = nn.ReLU()\n",
    "        self.classifier = nn.Linear(64,5)\n",
    "\n",
    "    def forward(self, input_ids, attention_mask):\n",
    "        outputs = self.bert(input_ids=input_ids, attention_mask=attention_mask)\n",
    "        cls_output = outputs.pooler_output \n",
    "        out = self.dropout(cls_output)\n",
    "        out = self.linear1(out)\n",
    "        out = self.ReLu(out)\n",
    "        logits = self.classifier(out)  \n",
    "        return logits"
   ]
  },
  {
   "cell_type": "code",
   "execution_count": null,
   "metadata": {
    "id": "gLB3miwTykaU"
   },
   "outputs": [],
   "source": []
  },
  {
   "cell_type": "markdown",
   "metadata": {
    "id": "kyNU0SE8Hw1W"
   },
   "source": [
    "# **Step 4: Important Functions**"
   ]
  },
  {
   "cell_type": "markdown",
   "metadata": {
    "id": "Hf3XHMhyylLF"
   },
   "source": [
    "### **Training and Test Function**"
   ]
  },
  {
   "cell_type": "code",
   "execution_count": null,
   "metadata": {
    "id": "aKV3ZVCGykL7"
   },
   "outputs": [],
   "source": [
    "Average_loss = []\n",
    "all_epoch = []\n",
    "\n",
    "# Training the model\n",
    "def train_model(model, train_dataloader, optimizer, loss_fn, device, epochs= 5, model_type = 'LSTM'):\n",
    "    model.to(device)\n",
    "    for epoch in range(epochs):\n",
    "        model.train()\n",
    "        total_loss = 0.0  # Initialize the total loss for this epoch\n",
    "\n",
    "        for batch in train_dataloader:\n",
    "            if model_type == 'LSTM':\n",
    "                input_ids, lengths, labels = [b.to(device) for b in batch]\n",
    "                optimizer.zero_grad()\n",
    "                outputs = model(input_ids, lengths)\n",
    "            else: # for BERT \n",
    "                input_ids, attention_mask, labels = [b.to(device) for b in batch]\n",
    "                optimizer.zero_grad()\n",
    "                outputs = model(input_ids, attention_mask)\n",
    "\n",
    "            loss = loss_fn(outputs, labels)\n",
    "            loss.backward()\n",
    "            optimizer.step()\n",
    "\n",
    "            # Accumulate the total loss\n",
    "            total_loss += loss.item()\n",
    "\n",
    "        # Average loss for the epoch\n",
    "        avg_loss = total_loss / len(train_dataloader)\n",
    "        Average_loss.append(avg_loss)\n",
    "        all_epoch.append(epoch + 1)\n",
    "        print(f\"Epoch {epoch + 1}/{epochs}, Loss: {avg_loss:.4f}\")\n",
    "\n",
    "\n",
    "# Evaluation of the model\n",
    "def evaluate_model(model, test_dataloader, device, model_type = 'LSTM'):\n",
    "    model.to(device)\n",
    "    model.eval()\n",
    "    true_labels = []\n",
    "    prediction = []\n",
    "    with torch.no_grad():\n",
    "        for batch in test_dataloader:\n",
    "            if model_type == 'LSTM':\n",
    "                input_ids, lengths, labels = [b.to(device) for b in batch]\n",
    "                outputs = model(input_ids, lengths)\n",
    "            else: # for BERT\n",
    "                input_ids, attention_mask, labels = [b.to(device) for b in batch]\n",
    "                outputs = model(input_ids, attention_mask)\n",
    "            _, predicted = torch.max(outputs, dim=1)\n",
    "            prediction.extend(predicted.cpu().numpy())\n",
    "            true_labels.extend(labels.cpu().numpy())\n",
    "    return true_labels, prediction"
   ]
  },
  {
   "cell_type": "markdown",
   "metadata": {
    "id": "58BcHYKSMucV"
   },
   "source": [
    "#### **Ploting Result Functions**"
   ]
  },
  {
   "cell_type": "code",
   "execution_count": null,
   "metadata": {
    "id": "qcbsGTeZIRB7"
   },
   "outputs": [],
   "source": [
    "# Function for Ploting Average Loss vs. Epoch\n",
    "\n",
    "import matplotlib.pyplot as plt\n",
    "\n",
    "def plot_loss_vs_epoch(all_epoch, Average_loss, start=0, end=20):\n",
    "    all_epoch = [str(num) for num in all_epoch[start:end]]\n",
    "    Average_loss = Average_loss[start:end]\n",
    "\n",
    "    plt.figure(figsize=(7, 3))\n",
    "\n",
    "    plt.plot(all_epoch, Average_loss, marker='o', label='Average Loss')\n",
    "    plt.xlabel('Epoch')\n",
    "    plt.ylabel('Average Loss')\n",
    "    plt.title('Average Loss vs. Epoch')\n",
    "    plt.legend()\n",
    "\n",
    "    plt.grid(True)  # Add gridlines for better readability\n",
    "    plt.tight_layout()\n",
    "    plt.show()"
   ]
  },
  {
   "cell_type": "code",
   "execution_count": null,
   "metadata": {
    "id": "b1PL3jyjIXL9"
   },
   "outputs": [],
   "source": [
    "# Function for classification report and Ploting confusion matrix:\n",
    "\n",
    "def plot_classification_report_and_confusion_matrix(true_labels, preds, id2label, model_name):\n",
    "    # Convert numerical predictions and true labels back to string labels\n",
    "    true_labels_str = [id2label[label] for label in true_labels]\n",
    "    preds_str = [id2label[label] for label in preds]\n",
    "\n",
    "    # Print classification report\n",
    "    print(classification_report(true_labels_str, preds_str, target_names=id2label.values()))\n",
    "\n",
    "    print('........................................................ \\n')\n",
    "\n",
    "    # confusion matrix\n",
    "    conf_matrix = confusion_matrix(true_labels_str, preds_str)\n",
    "    # Display the confusion matrix using a heatmap\n",
    "    plt.figure(figsize=(5, 5))\n",
    "    sns.heatmap(conf_matrix, annot=True, fmt=\"d\", cmap=\"Blues\", xticklabels=id2label.values(), yticklabels=id2label.values())\n",
    "    plt.title(f\"Confusion Matrix for {model_name}\")\n",
    "    plt.xlabel(\"Predicted Label\")\n",
    "    plt.ylabel(\"True Label\")\n",
    "    plt.show()"
   ]
  },
  {
   "cell_type": "markdown",
   "metadata": {
    "id": "R7tGBfuWH9tK"
   },
   "source": [
    "# **Step 5: Applying Models**"
   ]
  },
  {
   "cell_type": "markdown",
   "metadata": {
    "id": "VOVbh_F_NTQH"
   },
   "source": [
    "## ........  5 - 1: **Prepare Data for LSTM Models** ............"
   ]
  },
  {
   "cell_type": "code",
   "execution_count": null,
   "metadata": {
    "id": "N_YEpNLaoIsp"
   },
   "outputs": [],
   "source": [
    "tokenizer = get_tokenizer('basic_english')"
   ]
  },
  {
   "cell_type": "code",
   "execution_count": null,
   "metadata": {
    "id": "UU9gZDEEGTfV"
   },
   "outputs": [],
   "source": [
    "# Tokenization\n",
    "def tokenize(text):\n",
    "    return tokenizer(text)\n",
    "\n",
    "# Create the vocabulary\n",
    "def yield_tokens(data):\n",
    "    for text in data:\n",
    "        yield tokenize(text)\n",
    "\n",
    "vocab = build_vocab_from_iterator(yield_tokens(X_train), specials=['<unk>', '<pad>', '<bos>', '<eos>'])\n",
    "vocab.set_default_index(vocab['<unk>'])"
   ]
  },
  {
   "cell_type": "code",
   "execution_count": null,
   "metadata": {
    "id": "rt_G32zZGXIh"
   },
   "outputs": [],
   "source": [
    "# Prepare data for LSTM\n",
    "def prepare_data_for_lstm(sentences, labels, tokenizer, vocab):\n",
    "    tokenized_sentences = [tokenize(sentence) for sentence in sentences]\n",
    "    lengths = [len(tokenized_sent) for tokenized_sent in tokenized_sentences]\n",
    "    padded_sentences = [tokenized_sent + ['<pad>'] * (max(lengths) - len(tokenized_sent)) for tokenized_sent in tokenized_sentences]\n",
    "    numerical_sentences = [[vocab[token] for token in sentence] for sentence in padded_sentences]\n",
    "\n",
    "    return torch.tensor(numerical_sentences), torch.tensor(lengths), torch.tensor(labels)\n",
    "\n",
    "# Prepare training and testing data for LSTM\n",
    "lstm_train_data = prepare_data_for_lstm(X_train, y_train, tokenizer, vocab)\n",
    "lstm_test_data = prepare_data_for_lstm(X_test, y_test, tokenizer, vocab)"
   ]
  },
  {
   "cell_type": "code",
   "execution_count": null,
   "metadata": {
    "colab": {
     "base_uri": "https://localhost:8080/"
    },
    "id": "1IHcGcZpNTQh",
    "outputId": "d840ad35-eb8c-4b5f-e464-c28400c68813"
   },
   "outputs": [],
   "source": [
    "lstm_train_data"
   ]
  },
  {
   "cell_type": "code",
   "execution_count": null,
   "metadata": {
    "id": "r59wDe2hNTQi"
   },
   "outputs": [],
   "source": [
    "# Create TensorDatasets\n",
    "lstm_train_dataset = TensorDataset(lstm_train_data[0], lstm_train_data[1], lstm_train_data[2])\n",
    "lstm_test_dataset = TensorDataset(lstm_test_data[0], lstm_test_data[1], lstm_test_data[2])"
   ]
  },
  {
   "cell_type": "code",
   "execution_count": null,
   "metadata": {
    "colab": {
     "base_uri": "https://localhost:8080/"
    },
    "id": "KgyTBOSUNTQj",
    "outputId": "51a5c0d9-b1ab-4c4f-d123-d18c58d1048e"
   },
   "outputs": [],
   "source": [
    "lstm_train_dataset[0]  # first text (sentence)"
   ]
  },
  {
   "cell_type": "code",
   "execution_count": null,
   "metadata": {
    "id": "-X5XG0x1NTQk"
   },
   "outputs": [],
   "source": [
    "# Create DataLoaders\n",
    "batch_size = 16\n",
    "lstm_train_dataloader = DataLoader(lstm_train_dataset, batch_size=batch_size, shuffle=True)\n",
    "lstm_test_dataloader = DataLoader(lstm_test_dataset, batch_size=batch_size, shuffle=False)"
   ]
  },
  {
   "cell_type": "markdown",
   "metadata": {},
   "source": [
    "## ........  5 - 2: **LSTM: Training  and Evaluation** ............"
   ]
  },
  {
   "cell_type": "code",
   "execution_count": null,
   "metadata": {
    "colab": {
     "base_uri": "https://localhost:8080/",
     "height": 1000
    },
    "id": "miz1fYoCVrAW",
    "outputId": "40fa5794-53f8-42fe-db8f-926d6f930254"
   },
   "outputs": [],
   "source": [
    "learning_rate = [0.001, 0.005, 0.01, 0.05, 0.01]\n",
    "hidden_dim_list = [128, 256]\n",
    "\n",
    "for hidden_dim in hidden_dim_list:\n",
    "    for lr in learning_rate:\n",
    "        # Initialize the LSTMClassifier model\n",
    "        embedding_dim = 128\n",
    "        hidden_dim = hidden_dim\n",
    "        lstm_model = LSTMClassifier(vocab_size=len(vocab), embedding_dim=embedding_dim, hidden_dim=hidden_dim, output_dim=len(unique_labels))\n",
    "\n",
    "        optimizer = torch.optim.Adam(lstm_model.parameters(), lr=lr)\n",
    "        loss_fn = nn.CrossEntropyLoss()\n",
    "\n",
    "        print(f'---------- Result for the learing Rate: {lr} and hidden_dim: {hidden_dim} Started ----------')\n",
    "        # Train model\n",
    "        device = torch.device('cuda' if torch.cuda.is_available() else 'cpu')\n",
    "        train_model(lstm_model, lstm_train_dataloader, optimizer, loss_fn, device, epochs=20, model_type = 'LSTM')\n",
    "\n",
    "        # evalution\n",
    "        lstm_true_labels, lstm_preds = evaluate_model(lstm_model, lstm_test_dataloader, device, model_type = 'LSTM')\n",
    "\n",
    "        # Print classification report and Display the confusion matrix\n",
    "        plot_classification_report_and_confusion_matrix(lstm_true_labels, lstm_preds, id2label, \"LSTM\")\n",
    "\n",
    "        print(f' ----------Result for the learing Rate: {lr} and hidden_dim: {hidden_dim} Finished ----------')\n",
    "        print('\\n\\n')\n",
    "\n",
    "\n",
    "print('\\n\\n')\n",
    "print('---------------------- All process finished. ----------------------')"
   ]
  },
  {
   "cell_type": "code",
   "execution_count": null,
   "metadata": {
    "colab": {
     "base_uri": "https://localhost:8080/",
     "height": 307
    },
    "id": "HuEVUcG2NQLY",
    "outputId": "2a5e13f8-59ab-4d9d-a4f2-c80de8a17a46"
   },
   "outputs": [],
   "source": [
    "# Create the plot for Loss and Epoch\n",
    "plot_loss_vs_epoch(all_epoch, Average_loss,  start=0, end=20)"
   ]
  },
  {
   "cell_type": "markdown",
   "metadata": {
    "id": "hXwZZ_E5IwkB"
   },
   "source": [
    "## ........  5 - 3: **Bidirectional LSTM: Training  and Evaluation** ............"
   ]
  },
  {
   "cell_type": "code",
   "execution_count": null,
   "metadata": {
    "colab": {
     "base_uri": "https://localhost:8080/",
     "height": 1000
    },
    "id": "_jtqsQjHx5iE",
    "outputId": "7000b9eb-452e-475a-ee13-06bf31006dbf"
   },
   "outputs": [],
   "source": [
    "learning_rate = [0.001, 0.005, 0.01, 0.05, 0.01]\n",
    "hidden_dim_list = [128, 256]\n",
    "\n",
    "for hidden_dim in hidden_dim_list:\n",
    "    for lr in learning_rate:\n",
    "        embedding_dim = 128\n",
    "        hidden_dim = hidden_dim\n",
    "        bilstm_model = BiLSTMClassifier(vocab_size=len(vocab), embedding_dim=embedding_dim, hidden_dim=hidden_dim, output_dim=len(unique_labels))\n",
    "\n",
    "        optimizer = torch.optim.Adam(bilstm_model.parameters(), lr=lr)\n",
    "        loss_fn = nn.CrossEntropyLoss()\n",
    "\n",
    "        print(f'---------- Result for the learing Rate: {lr} and hidden_dim: {hidden_dim} Started ----------')\n",
    "        # Train model\n",
    "        device = torch.device('cuda' if torch.cuda.is_available() else 'cpu')\n",
    "        train_model(bilstm_model, lstm_train_dataloader, optimizer, loss_fn, device, epochs=20, model_type = 'LSTM')\n",
    "\n",
    "        # evalution\n",
    "        bi_lstm_true_labels, bi_lstm_preds = evaluate_model(bilstm_model, lstm_test_dataloader, device, model_type = 'LSTM')\n",
    "\n",
    "        # Print classification report and Display the confusion matrix\n",
    "        plot_classification_report_and_confusion_matrix(bi_lstm_true_labels, bi_lstm_preds, id2label, \" Bidirectional LSTM\")\n",
    "        print('\\n')\n",
    "        print(f' ----------Result for the learing Rate: {lr} and hidden_dim: {hidden_dim} Finished ----------')\n",
    "        print('\\n\\n')\n",
    "\n",
    "\n",
    "print('\\n\\n')\n",
    "print('---------------------- All process finished. ----------------------')"
   ]
  },
  {
   "cell_type": "code",
   "execution_count": null,
   "metadata": {
    "colab": {
     "base_uri": "https://localhost:8080/",
     "height": 307
    },
    "id": "D6Tcx8g2atfV",
    "outputId": "35b488a0-0500-4989-8671-d804e24be594"
   },
   "outputs": [],
   "source": [
    "plot_loss_vs_epoch(all_epoch, Average_loss,  start=20, end=40)"
   ]
  },
  {
   "cell_type": "code",
   "execution_count": null,
   "metadata": {
    "id": "jSPA7zsl31kQ"
   },
   "outputs": [],
   "source": []
  },
  {
   "cell_type": "markdown",
   "metadata": {
    "id": "VW2a4mTvW_me"
   },
   "source": [
    "## ........  5 - 4: **Data Preparation for BERT Models** ............"
   ]
  },
  {
   "cell_type": "code",
   "execution_count": null,
   "metadata": {
    "colab": {
     "base_uri": "https://localhost:8080/",
     "height": 304,
     "referenced_widgets": [
      "8f4956d329914ee0ab4ffa84721ce21b",
      "8ad2ec12304a4d3eb71dfc92dd10119c",
      "5acc6e2130424fa9954c1b804ebdaeb4",
      "67bdd1aa0dbe48aeb72d069c09612d6b",
      "b46855d35bd84402afe3f741a3f1e1ed",
      "e477be37965d4e49b7d28d957dadc161",
      "627150a7aeab464082bc1a02d3affd8b",
      "e02486cb3f3a48a685aaa6c9a94c7419",
      "1e75f8f95be942e2a6375e380e31938d",
      "f0a9d45b5e524a988382f8859e71a25a",
      "37982c5dec264e6c9d4005ccc2787abb",
      "f860f427d6de46f1b23c88b7782646de",
      "74b9c03afc3841c399712e22ecada4bf",
      "b20c18853a0e48138b8193e01c630fe4",
      "606128da04604d47a8cfc9607583ed54",
      "76f402692ec14c48a1e2faabef1f8f50",
      "5f5d64b90ae949928d52c7c99e8c0bff",
      "702887c126b3418c8adc15be87bb1167",
      "fefffbdd107b43ff8f50ee8f69436eb2",
      "b27e3fcab70e4b44a0d618e7c4df9206",
      "6201f7b87991417ab919a96493660987",
      "f556e0fec7ea49f48d260f682ed5fc2c",
      "204de4d1b5f14af6b33515c7a645adb3",
      "b757a554e35742a793f12c7fbc7dcd47",
      "8401f16161074461ba4f9afadd5be735",
      "af107454c40a49078cc5ace8573a7a83",
      "63d137f50d80442d9a24a1c79b39b8d3",
      "060b4afdb40044848d8e2e1acc7dc42d",
      "a09bb005a4eb48e09065a7392b4d5274",
      "356b23c483204b74bdf6d89dcf5283df",
      "c5f0ce4fdebc407b8228002a8f07adee",
      "518864691e3740cbb4908f5cb8552655",
      "883e056fdbd2490a8c66c1e3dbd19825",
      "960585b001814cb2b7a7f19d19f77438",
      "cf6d57515555402dbcddd341883daee2",
      "db4e10d35c174ca3aaf5cfdfeca56842",
      "495e54612df34f1abf9c8f91fc3a0a90",
      "b89f136db16040db833cbea69cb733f7",
      "225836a0ba234e41ba2a7b20dbbc8514",
      "0fcbb721963748d789d7eb309af3a859",
      "fca52ff4cc17489d96a8cea83d2a1c1a",
      "bac2ed7cc9f3467d83da98b9be5b94ee",
      "1d5ee2cd2bc74df1a9f12d3be8a4811a",
      "fe12939567a24a40a9a7cc5ff32e4f74"
     ]
    },
    "id": "uXUXkgJ3jMAL",
    "outputId": "df9b3b5a-0fc9-4351-ee38-f13c531db3ea"
   },
   "outputs": [],
   "source": [
    "# Initialize the tokenizer\n",
    "tokenizer = BertTokenizer.from_pretrained('bert-base-uncased')"
   ]
  },
  {
   "cell_type": "code",
   "execution_count": null,
   "metadata": {
    "colab": {
     "base_uri": "https://localhost:8080/"
    },
    "id": "cnG2cMrFD7-X",
    "outputId": "7e3865b3-55f5-4de2-bac4-f52f448f0d44"
   },
   "outputs": [],
   "source": [
    "# Testing tokenizer\n",
    "tokenizer(\"Hello World\") \n",
    "\n",
    "# sentence example : result creates format of: [CLS] + sentence + [SEP]"
   ]
  },
  {
   "cell_type": "code",
   "execution_count": null,
   "metadata": {
    "colab": {
     "base_uri": "https://localhost:8080/"
    },
    "id": "gDuqixgsDPDo",
    "outputId": "4400c1ec-0728-46b9-ea24-efb54ab9f443"
   },
   "outputs": [],
   "source": [
    "tokenizer(\"Hello World , How are you\") # sentence example"
   ]
  },
  {
   "cell_type": "code",
   "execution_count": null,
   "metadata": {
    "id": "5ryFevMuXCGf"
   },
   "outputs": [],
   "source": [
    "def prepare_data_for_bert(sentences, labels, tokenizer):\n",
    "    encodings = tokenizer(sentences, padding=True, truncation=True, return_tensors='pt', max_length=128)\n",
    "    labels = torch.tensor(labels)\n",
    "\n",
    "    return encodings, labels\n",
    "\n",
    "# Prepare training and testing data for BERT\n",
    "train_encodings, train_labels = prepare_data_for_bert(X_train, y_train, tokenizer)  # dictionary\n",
    "test_encodings, test_labels = prepare_data_for_bert(X_test, y_test, tokenizer)\n",
    "\n",
    "# Convert to tensors\n",
    "train_input_ids = train_encodings['input_ids']\n",
    "train_attention_mask = train_encodings['attention_mask']\n",
    "train_labels = train_labels\n",
    "\n",
    "test_input_ids = test_encodings['input_ids']\n",
    "test_attention_mask = test_encodings['attention_mask']\n",
    "test_labels = test_labels\n",
    "\n",
    "\n",
    "# Create TensorDatasets\n",
    "train_dataset = TensorDataset(train_input_ids, train_attention_mask, train_labels)\n",
    "test_dataset = TensorDataset(test_input_ids, test_attention_mask, test_labels)"
   ]
  },
  {
   "cell_type": "code",
   "execution_count": null,
   "metadata": {
    "colab": {
     "base_uri": "https://localhost:8080/"
    },
    "id": "qDKL95KHY-fV",
    "outputId": "0845006d-63ff-47fc-fc6a-8b9d6f6101b2"
   },
   "outputs": [],
   "source": [
    "len(train_encodings)"
   ]
  },
  {
   "cell_type": "code",
   "execution_count": null,
   "metadata": {
    "colab": {
     "base_uri": "https://localhost:8080/"
    },
    "id": "wDBUS0UXZ0nN",
    "outputId": "73d08781-973d-45ae-a636-35b1007ee185"
   },
   "outputs": [],
   "source": [
    "train_encodings"
   ]
  },
  {
   "cell_type": "code",
   "execution_count": null,
   "metadata": {
    "colab": {
     "base_uri": "https://localhost:8080/"
    },
    "id": "6AiDe7_uZq2G",
    "outputId": "1137354c-0f7e-4992-feff-d9c0174f97ed"
   },
   "outputs": [],
   "source": [
    "train_encodings['input_ids']"
   ]
  },
  {
   "cell_type": "code",
   "execution_count": null,
   "metadata": {
    "colab": {
     "base_uri": "https://localhost:8080/"
    },
    "id": "y9WkIzYEZv_o",
    "outputId": "12669121-4ccb-469b-b565-7e544382c216"
   },
   "outputs": [],
   "source": [
    "train_encodings['attention_mask']"
   ]
  },
  {
   "cell_type": "code",
   "execution_count": null,
   "metadata": {
    "colab": {
     "base_uri": "https://localhost:8080/"
    },
    "id": "HtZknL02YtQu",
    "outputId": "a9a772bf-3478-48f5-8538-82541ba27c0a"
   },
   "outputs": [],
   "source": [
    "train_dataset[0]"
   ]
  },
  {
   "cell_type": "code",
   "execution_count": null,
   "metadata": {
    "id": "ODIXCzNcXT5-"
   },
   "outputs": [],
   "source": [
    "# Create DataLoaders\n",
    "batch_size = 16\n",
    "train_dataloader = DataLoader(train_dataset, batch_size=batch_size, shuffle=True)\n",
    "test_dataloader = DataLoader(test_dataset, batch_size=batch_size, shuffle=False)"
   ]
  },
  {
   "cell_type": "markdown",
   "metadata": {},
   "source": [
    "## ........  5 - 5: **BERT: Training  and Evaluation** ............"
   ]
  },
  {
   "cell_type": "code",
   "execution_count": null,
   "metadata": {
    "colab": {
     "base_uri": "https://localhost:8080/",
     "height": 1000,
     "referenced_widgets": [
      "1f39111b09eb42e698e06ded27245f6c",
      "d51828d58d114ad7b3b8164a9cb8bf42",
      "e4575032908e46a2be3c37453e197170",
      "9ce4fbe27dd54a8097652ef23a4faec1",
      "66b0ecdeac8f43259d0a8c188fa43dbd",
      "b9bc28eba3c94f75bc7d71590892ff4f",
      "1e76c62b37d64c719090fda476e9705b",
      "f2741590e9a045afa03d9632f886b3a1",
      "5e5532391a7041f58f8043ed03a33c56",
      "dbebb9d347194dfdb37b7788d3d2148a",
      "e0c8f4ef10744b39bbc99420a25907a7"
     ]
    },
    "id": "Tp348R3r6_Po",
    "outputId": "c419a69a-366f-418d-f3e7-5da333fff1d8"
   },
   "outputs": [],
   "source": [
    "learning_rate = [0.00001, 0.0001, 0.001]\n",
    "epoch_numers = [4, 5]\n",
    "\n",
    "for epoch_num in epoch_numers:\n",
    "    for lr in learning_rate:\n",
    "        # Initialize the model\n",
    "        model = BERTClassifier(num_labels=len(unique_labels))\n",
    "        optimizer = torch.optim.AdamW(model.parameters(), lr=lr)\n",
    "        loss_fn = nn.CrossEntropyLoss()\n",
    "\n",
    "        print(f'---------- Result for the   learing Rate: {lr} and   Epoch number: {epoch_num} Started ----------')\n",
    "        # Training model\n",
    "        device = torch.device('cuda' if torch.cuda.is_available() else 'cpu')\n",
    "        train_model(model, train_dataloader, optimizer, loss_fn, device, epochs=epoch_num, model_type = 'BERT')\n",
    "\n",
    "        # Evalute model\n",
    "        bert_true_labels, bert_predict = evaluate_model(model, test_dataloader, device, model_type = 'BERT')\n",
    "\n",
    "        # Print classification report and Display the confusion matrix\n",
    "        plot_classification_report_and_confusion_matrix(bert_true_labels, bert_predict, id2label, \"BERT\")\n",
    "\n",
    "        print(f' ----------Result for the   learing Rate: {lr} and   Epoch number: {epoch_num} Finished ----------')\n",
    "        print('\\n\\n')\n",
    "\n",
    "print('\\n\\n')\n",
    "print('---------------------- All process finished. ----------------------')"
   ]
  },
  {
   "cell_type": "code",
   "execution_count": null,
   "metadata": {
    "colab": {
     "base_uri": "https://localhost:8080/",
     "height": 307
    },
    "id": "Nibj-6JTKX-1",
    "outputId": "7881279f-78d8-40fa-e923-5354c857761a"
   },
   "outputs": [],
   "source": [
    "plot_loss_vs_epoch(all_epoch, Average_loss,  start= 40, end= 45)"
   ]
  },
  {
   "cell_type": "code",
   "execution_count": null,
   "metadata": {
    "id": "zdFIEPa1JuYW"
   },
   "outputs": [],
   "source": []
  },
  {
   "cell_type": "markdown",
   "metadata": {
    "id": "BB6Sqzar59Fm"
   },
   "source": [
    "## ........  5 - 6: **BERT_Larg: Training  and Evaluation** ............"
   ]
  },
  {
   "cell_type": "code",
   "execution_count": null,
   "metadata": {
    "colab": {
     "base_uri": "https://localhost:8080/",
     "height": 1000
    },
    "id": "CIdT2KGoOz0c",
    "outputId": "f5290051-0724-4529-a901-9ab614d477e3"
   },
   "outputs": [],
   "source": [
    "learning_rate = [0.00001, 0.0001, 0.001]\n",
    "epoch_numers = [4, 5]\n",
    "\n",
    "for epoch_num in epoch_numers:\n",
    "    for lr in learning_rate:\n",
    "        # Initialize the model\n",
    "        model_B_L = BERTClassifier_Larg(num_labels=len(unique_labels))\n",
    "        optimizer = torch.optim.AdamW(model_B_L.parameters(), lr=lr)\n",
    "        loss_fn = nn.CrossEntropyLoss()\n",
    "\n",
    "        print(f'---------- Result for the   learing Rate: {lr} and   Epoch number: {epoch_num} Started ----------')\n",
    "        # Training model\n",
    "        device = torch.device('cuda' if torch.cuda.is_available() else 'cpu')\n",
    "        train_model(model_B_L, train_dataloader, optimizer, loss_fn, device, epochs=epoch_num, model_type = 'BERT')\n",
    "\n",
    "        # Evalute model\n",
    "        bert_true_labels, bert_predict = evaluate_model(model_B_L, test_dataloader, device, model_type = 'BERT')\n",
    "\n",
    "        # Print classification report and Display the confusion matrix\n",
    "        plot_classification_report_and_confusion_matrix(bert_true_labels, bert_predict, id2label, \"BERTClassifier_Larg Model\")\n",
    "\n",
    "        print(f' ----------Result for the   learing Rate: {lr} and   Epoch number: {epoch_num} Finished ----------')\n",
    "        print('\\n\\n')\n",
    "\n",
    "print('\\n\\n')\n",
    "print('---------------------- All process finished. ----------------------')"
   ]
  },
  {
   "cell_type": "markdown",
   "metadata": {
    "id": "_kLkiUXU6Q8U"
   },
   "source": [
    "## Sample outputs"
   ]
  },
  {
   "cell_type": "code",
   "execution_count": null,
   "metadata": {
    "colab": {
     "base_uri": "https://localhost:8080/"
    },
    "id": "al0K0Th4qAvY",
    "outputId": "bb57d712-2cd8-4f62-850e-f819af72a4e7"
   },
   "outputs": [],
   "source": [
    "# Check the results\n",
    "true_labels, prediction\n",
    "print(f\"True labels sample: {true_labels[:10]}\")\n",
    "print(f\"Predictions sample: {prediction[:10]}\")"
   ]
  },
  {
   "cell_type": "code",
   "execution_count": null,
   "metadata": {
    "id": "Z7tHKXrKU8vf"
   },
   "outputs": [],
   "source": [
    "# Sample outputs for visualization\n",
    "sample_sentences = X_test[5:15]\n",
    "sample_true_labels = [id2label[label] for label in y_test[:15]]\n",
    "sample_pred_labels = [id2label[label] for label in prediction[:15]]"
   ]
  },
  {
   "cell_type": "code",
   "execution_count": null,
   "metadata": {
    "colab": {
     "base_uri": "https://localhost:8080/"
    },
    "id": "5jHtOB526qqo",
    "outputId": "7f288201-1875-422d-a2e9-6d23fdffbabd"
   },
   "outputs": [],
   "source": [
    "# Print some sample test data outputs\n",
    "for sentence, true_label, pred_label in zip(sample_sentences, sample_true_labels, sample_pred_labels):\n",
    "    print(f\"Sentence: {sentence}\\nTrue Label: {true_label}\\nPredicted Label: {pred_label}\\n\")"
   ]
  },
  {
   "cell_type": "code",
   "execution_count": null,
   "metadata": {
    "id": "gSELcU2wJ2dO"
   },
   "outputs": [],
   "source": []
  },
  {
   "cell_type": "markdown",
   "metadata": {
    "id": "B93E35sgZEDZ"
   },
   "source": [
    "# **Step 6: Knowledge Graph**\n"
   ]
  },
  {
   "cell_type": "markdown",
   "metadata": {
    "id": "FL2n-oN0KRb2"
   },
   "source": [
    "\n",
    "## ........  **6 - 1: Data Preparation for KG** ............"
   ]
  },
  {
   "cell_type": "code",
   "execution_count": null,
   "metadata": {
    "colab": {
     "base_uri": "https://localhost:8080/"
    },
    "id": "eDz2hmBiqAoM",
    "outputId": "c15c0244-058d-4495-93df-588df5b222bf"
   },
   "outputs": [],
   "source": [
    "df = pd.DataFrame(under_sampled_data)\n",
    "\n",
    "df_KG = df[['sub', 'obj', 'pred']]\n",
    "\n",
    "df_KG['sub'].head(3)"
   ]
  },
  {
   "cell_type": "code",
   "execution_count": null,
   "metadata": {
    "colab": {
     "base_uri": "https://localhost:8080/"
    },
    "id": "XsqK7ugNebcV",
    "outputId": "70cbff92-50c5-4db5-f74f-cf1f37873d82"
   },
   "outputs": [],
   "source": [
    "pip install networkx"
   ]
  },
  {
   "cell_type": "code",
   "execution_count": null,
   "metadata": {
    "colab": {
     "base_uri": "https://localhost:8080/"
    },
    "id": "ALY4PjZeswMZ",
    "outputId": "8c0f30fd-1aa9-4821-d7ae-02e1b25729d9"
   },
   "outputs": [],
   "source": [
    "import networkx as nx\n",
    "import matplotlib.pyplot as plt\n",
    "\n",
    "# Initialize the graph\n",
    "graph = nx.Graph()\n",
    "\n",
    "# Add nodes and edges from results\n",
    "for index, row in df_KG.iterrows():\n",
    "    sub = row['sub']\n",
    "    obj = row['obj']\n",
    "    pred = row['pred']\n",
    "\n",
    "    # Add nodes if not already in the graph\n",
    "    if sub not in graph.nodes:\n",
    "        graph.add_node(sub)\n",
    "    if obj not in graph.nodes:\n",
    "        graph.add_node(obj)\n",
    "\n",
    "    # Add edge with predicate as relationship\n",
    "    graph.add_edge(sub, obj, relation=pred)\n",
    "\n",
    "# Example of accessing nodes and edges\n",
    "print(\"Nodes:\", graph.nodes)\n",
    "print(\"Edges:\", graph.edges(data=True))"
   ]
  },
  {
   "cell_type": "code",
   "execution_count": null,
   "metadata": {
    "colab": {
     "base_uri": "https://localhost:8080/"
    },
    "id": "9OhqS-bMbSzh",
    "outputId": "2a4281e6-3f7d-4af0-d6ec-05095e808d2f"
   },
   "outputs": [],
   "source": [
    "print(\"Number of nodes:\", len(graph.nodes))\n",
    "print(\"Number of edges:\", len(graph.edges))\n",
    "print(\"Number of dataset:\", len(df_KG))\n",
    "print(\"Number of unique subjects:\", len(df_KG['sub'].unique()))\n",
    "print(\"Number of unique objects:\", len(df_KG['obj'].unique()))\n",
    "print(\"Number of unique predicates:\", len(df_KG['pred'].unique()))"
   ]
  },
  {
   "cell_type": "markdown",
   "metadata": {
    "id": "JLTTuqnSKi9_"
   },
   "source": [
    "\n",
    "## ........  **6 - 2: Static Graph Visualization** ............"
   ]
  },
  {
   "cell_type": "code",
   "execution_count": null,
   "metadata": {
    "colab": {
     "base_uri": "https://localhost:8080/",
     "height": 896
    },
    "id": "dUFij9u8sv9u",
    "outputId": "19708bb1-1d3c-411e-95ca-3f4144178c35"
   },
   "outputs": [],
   "source": [
    "plt.figure(figsize=(12, 8))\n",
    "\n",
    "# Layout algorithm for visualization\n",
    "pos = nx.spring_layout(graph, seed=42)\n",
    "\n",
    "# Draw nodes and edges\n",
    "nx.draw(graph, pos, with_labels=True, node_size=2000, node_color='skyblue', edge_color='gray', font_size=12, font_weight='bold')\n",
    "\n",
    "# Draw edge labels with adjusted positioning and style\n",
    "edge_labels = nx.get_edge_attributes(graph, 'relation')\n",
    "nx.draw_networkx_edge_labels(graph, pos, edge_labels=edge_labels, font_color='red', font_size=10, label_pos=0.5)\n",
    "\n",
    "plt.title(\"Knowledge Graph\", fontsize=16, fontweight='bold')\n",
    "plt.axis('off')  # Hide the axis\n",
    "\n",
    "# Display the graph\n",
    "plt.tight_layout()\n",
    "plt.show()"
   ]
  },
  {
   "cell_type": "markdown",
   "metadata": {
    "id": "k4ifi8W4K1sl"
   },
   "source": [
    "\n",
    "## ........  **6 - 3: Dynamic Graph Visualization** ............"
   ]
  },
  {
   "cell_type": "code",
   "execution_count": null,
   "metadata": {
    "id": "2FDGMofT9r1y"
   },
   "outputs": [],
   "source": [
    "import networkx as nx\n",
    "import plotly.graph_objects as go\n",
    "import matplotlib.pyplot as plt\n",
    "\n",
    "# Ploting Dynamic Graph\n",
    "def visualize_dynamic_graph(graph, title='Knowledge Graph', seed=42):\n",
    "    # Layout algorithm for visualization\n",
    "    pos = nx.spring_layout(graph, seed=seed)\n",
    "\n",
    "    # Extract edges and node positions\n",
    "    edge_x = []\n",
    "    edge_y = []\n",
    "    edge_text = []  # To store the relation information\n",
    "    for edge in graph.edges(data=True):\n",
    "        x0, y0 = pos[edge[0]]\n",
    "        x1, y1 = pos[edge[1]]\n",
    "        edge_x.append(x0)\n",
    "        edge_x.append(x1)\n",
    "        edge_x.append(None)\n",
    "        edge_y.append(y0)\n",
    "        edge_y.append(y1)\n",
    "        edge_y.append(None)\n",
    "        edge_text.append(edge[2]['relation'])  # Add the relation to edge_text\n",
    "\n",
    "    edge_trace = go.Scatter(\n",
    "        x=edge_x, y=edge_y,\n",
    "        line=dict(width=1, color='gray'),\n",
    "        hoverinfo='text',  # Set hoverinfo to 'text'\n",
    "        text=edge_text,  # Use edge_text for hover text\n",
    "        mode='lines')\n",
    "\n",
    "    node_x = []\n",
    "    node_y = []\n",
    "    node_text = []  # To store the node labels\n",
    "    for node in graph.nodes():\n",
    "        x, y = pos[node]\n",
    "        node_x.append(x)\n",
    "        node_y.append(y)\n",
    "        node_text.append(node)\n",
    "\n",
    "    node_trace = go.Scatter(\n",
    "        x=node_x, y=node_y,\n",
    "        mode='markers+text',\n",
    "        text=node_text,  # Use node_text for hover text\n",
    "        textposition=\"top center\",\n",
    "        hoverinfo='text',\n",
    "        marker=dict(\n",
    "            showscale=False,\n",
    "            color='skyblue',\n",
    "            size=20,\n",
    "            line_width=2))\n",
    "\n",
    "    fig = go.Figure(data=[edge_trace, node_trace],\n",
    "                    layout=go.Layout(\n",
    "                        title=title,\n",
    "                        titlefont_size=16,\n",
    "                        showlegend=False,\n",
    "                        hovermode='closest',\n",
    "                        margin=dict(b=20, l=5, r=5, t=40),\n",
    "                        annotations=[dict(\n",
    "                            text=title,\n",
    "                            showarrow=False,\n",
    "                            xref=\"paper\", yref=\"paper\",\n",
    "                            x=0.005, y=-0.002)],\n",
    "                        xaxis=dict(showgrid=False, zeroline=False),\n",
    "                        yaxis=dict(showgrid=False, zeroline=False))\n",
    "                    )\n",
    "\n",
    "    fig.show()"
   ]
  },
  {
   "cell_type": "code",
   "execution_count": null,
   "metadata": {
    "colab": {
     "base_uri": "https://localhost:8080/"
    },
    "id": "ySJpMuVi9rsz",
    "outputId": "28ecc58e-3a9d-4cb9-b772-cbd6eab16648"
   },
   "outputs": [],
   "source": [
    "visualize_dynamic_graph(graph = graph, title='Knowledge Graph', seed=42)"
   ]
  },
  {
   "cell_type": "markdown",
   "metadata": {
    "id": "XpjVaXEh27Pb"
   },
   "source": [
    "### **KG for Specific Predicate of interest, such as institution **"
   ]
  },
  {
   "cell_type": "code",
   "execution_count": null,
   "metadata": {
    "id": "qxWAGM2WiUj8"
   },
   "outputs": [],
   "source": [
    "import networkx as nx\n",
    "import plotly.graph_objects as go\n",
    "import matplotlib.pyplot as plt\n",
    "\n",
    "# Define the predicate of interest (relation between sub and obj)\n",
    "predicate_of_interest = 'institution'\n",
    "\n",
    "# Initialize the graph\n",
    "graph = nx.Graph()\n",
    "\n",
    "# Add nodes and edges from results where the predicate matches the one of interest(relation)\n",
    "for index, row in df_KG_limited.iterrows():\n",
    "    sub = row['sub']\n",
    "    obj = row['obj']\n",
    "    pred = row['pred']\n",
    "\n",
    "    if pred == predicate_of_interest:\n",
    "        # Add nodes if not already in the graph\n",
    "        if sub not in graph.nodes:\n",
    "            graph.add_node(sub)\n",
    "        if obj not in graph.nodes:\n",
    "            graph.add_node(obj)\n",
    "\n",
    "        # Add edge with predicate as relationship\n",
    "        graph.add_edge(sub, obj, relation=pred)"
   ]
  },
  {
   "cell_type": "code",
   "execution_count": null,
   "metadata": {
    "colab": {
     "base_uri": "https://localhost:8080/",
     "height": 542
    },
    "id": "mSI3XlmHIxrq",
    "outputId": "87b06616-7c1f-4fb8-9407-916ddb128cbe"
   },
   "outputs": [],
   "source": [
    "visualize_dynamic_graph(graph = graph, title='Knowledge Graph', seed=42)"
   ]
  },
  {
   "cell_type": "code",
   "execution_count": null,
   "metadata": {
    "id": "MPjDoyCpJ2BD"
   },
   "outputs": [],
   "source": []
  }
 ],
 "metadata": {
  "accelerator": "GPU",
  "colab": {
   "gpuType": "T4",
   "provenance": []
  },
  "kernelspec": {
   "display_name": "Python 3 (ipykernel)",
   "language": "python",
   "name": "python3"
  },
  "language_info": {
   "codemirror_mode": {
    "name": "ipython",
    "version": 3
   },
   "file_extension": ".py",
   "mimetype": "text/x-python",
   "name": "python",
   "nbconvert_exporter": "python",
   "pygments_lexer": "ipython3",
   "version": "3.9.18"
  },
  "widgets": {
   "application/vnd.jupyter.widget-state+json": {
    "060b4afdb40044848d8e2e1acc7dc42d": {
     "model_module": "@jupyter-widgets/base",
     "model_module_version": "1.2.0",
     "model_name": "LayoutModel",
     "state": {
      "_model_module": "@jupyter-widgets/base",
      "_model_module_version": "1.2.0",
      "_model_name": "LayoutModel",
      "_view_count": null,
      "_view_module": "@jupyter-widgets/base",
      "_view_module_version": "1.2.0",
      "_view_name": "LayoutView",
      "align_content": null,
      "align_items": null,
      "align_self": null,
      "border": null,
      "bottom": null,
      "display": null,
      "flex": null,
      "flex_flow": null,
      "grid_area": null,
      "grid_auto_columns": null,
      "grid_auto_flow": null,
      "grid_auto_rows": null,
      "grid_column": null,
      "grid_gap": null,
      "grid_row": null,
      "grid_template_areas": null,
      "grid_template_columns": null,
      "grid_template_rows": null,
      "height": null,
      "justify_content": null,
      "justify_items": null,
      "left": null,
      "margin": null,
      "max_height": null,
      "max_width": null,
      "min_height": null,
      "min_width": null,
      "object_fit": null,
      "object_position": null,
      "order": null,
      "overflow": null,
      "overflow_x": null,
      "overflow_y": null,
      "padding": null,
      "right": null,
      "top": null,
      "visibility": null,
      "width": null
     }
    },
    "0fcbb721963748d789d7eb309af3a859": {
     "model_module": "@jupyter-widgets/controls",
     "model_module_version": "1.5.0",
     "model_name": "DescriptionStyleModel",
     "state": {
      "_model_module": "@jupyter-widgets/controls",
      "_model_module_version": "1.5.0",
      "_model_name": "DescriptionStyleModel",
      "_view_count": null,
      "_view_module": "@jupyter-widgets/base",
      "_view_module_version": "1.2.0",
      "_view_name": "StyleView",
      "description_width": ""
     }
    },
    "19681bc185b94c4a85d08b318b52fe1b": {
     "model_module": "@jupyter-widgets/controls",
     "model_module_version": "1.5.0",
     "model_name": "FloatProgressModel",
     "state": {
      "_dom_classes": [],
      "_model_module": "@jupyter-widgets/controls",
      "_model_module_version": "1.5.0",
      "_model_name": "FloatProgressModel",
      "_view_count": null,
      "_view_module": "@jupyter-widgets/controls",
      "_view_module_version": "1.5.0",
      "_view_name": "ProgressView",
      "bar_style": "success",
      "description": "",
      "description_tooltip": null,
      "layout": "IPY_MODEL_a70e522ddab64f7286b8f111bd80b899",
      "max": 440449768,
      "min": 0,
      "orientation": "horizontal",
      "style": "IPY_MODEL_c9e3ac288eda4ba2867b0035fc7c324c",
      "value": 440449768
     }
    },
    "1d5ee2cd2bc74df1a9f12d3be8a4811a": {
     "model_module": "@jupyter-widgets/base",
     "model_module_version": "1.2.0",
     "model_name": "LayoutModel",
     "state": {
      "_model_module": "@jupyter-widgets/base",
      "_model_module_version": "1.2.0",
      "_model_name": "LayoutModel",
      "_view_count": null,
      "_view_module": "@jupyter-widgets/base",
      "_view_module_version": "1.2.0",
      "_view_name": "LayoutView",
      "align_content": null,
      "align_items": null,
      "align_self": null,
      "border": null,
      "bottom": null,
      "display": null,
      "flex": null,
      "flex_flow": null,
      "grid_area": null,
      "grid_auto_columns": null,
      "grid_auto_flow": null,
      "grid_auto_rows": null,
      "grid_column": null,
      "grid_gap": null,
      "grid_row": null,
      "grid_template_areas": null,
      "grid_template_columns": null,
      "grid_template_rows": null,
      "height": null,
      "justify_content": null,
      "justify_items": null,
      "left": null,
      "margin": null,
      "max_height": null,
      "max_width": null,
      "min_height": null,
      "min_width": null,
      "object_fit": null,
      "object_position": null,
      "order": null,
      "overflow": null,
      "overflow_x": null,
      "overflow_y": null,
      "padding": null,
      "right": null,
      "top": null,
      "visibility": null,
      "width": null
     }
    },
    "1e75f8f95be942e2a6375e380e31938d": {
     "model_module": "@jupyter-widgets/controls",
     "model_module_version": "1.5.0",
     "model_name": "ProgressStyleModel",
     "state": {
      "_model_module": "@jupyter-widgets/controls",
      "_model_module_version": "1.5.0",
      "_model_name": "ProgressStyleModel",
      "_view_count": null,
      "_view_module": "@jupyter-widgets/base",
      "_view_module_version": "1.2.0",
      "_view_name": "StyleView",
      "bar_color": null,
      "description_width": ""
     }
    },
    "204de4d1b5f14af6b33515c7a645adb3": {
     "model_module": "@jupyter-widgets/controls",
     "model_module_version": "1.5.0",
     "model_name": "HBoxModel",
     "state": {
      "_dom_classes": [],
      "_model_module": "@jupyter-widgets/controls",
      "_model_module_version": "1.5.0",
      "_model_name": "HBoxModel",
      "_view_count": null,
      "_view_module": "@jupyter-widgets/controls",
      "_view_module_version": "1.5.0",
      "_view_name": "HBoxView",
      "box_style": "",
      "children": [
       "IPY_MODEL_b757a554e35742a793f12c7fbc7dcd47",
       "IPY_MODEL_8401f16161074461ba4f9afadd5be735",
       "IPY_MODEL_af107454c40a49078cc5ace8573a7a83"
      ],
      "layout": "IPY_MODEL_63d137f50d80442d9a24a1c79b39b8d3"
     }
    },
    "225836a0ba234e41ba2a7b20dbbc8514": {
     "model_module": "@jupyter-widgets/base",
     "model_module_version": "1.2.0",
     "model_name": "LayoutModel",
     "state": {
      "_model_module": "@jupyter-widgets/base",
      "_model_module_version": "1.2.0",
      "_model_name": "LayoutModel",
      "_view_count": null,
      "_view_module": "@jupyter-widgets/base",
      "_view_module_version": "1.2.0",
      "_view_name": "LayoutView",
      "align_content": null,
      "align_items": null,
      "align_self": null,
      "border": null,
      "bottom": null,
      "display": null,
      "flex": null,
      "flex_flow": null,
      "grid_area": null,
      "grid_auto_columns": null,
      "grid_auto_flow": null,
      "grid_auto_rows": null,
      "grid_column": null,
      "grid_gap": null,
      "grid_row": null,
      "grid_template_areas": null,
      "grid_template_columns": null,
      "grid_template_rows": null,
      "height": null,
      "justify_content": null,
      "justify_items": null,
      "left": null,
      "margin": null,
      "max_height": null,
      "max_width": null,
      "min_height": null,
      "min_width": null,
      "object_fit": null,
      "object_position": null,
      "order": null,
      "overflow": null,
      "overflow_x": null,
      "overflow_y": null,
      "padding": null,
      "right": null,
      "top": null,
      "visibility": null,
      "width": null
     }
    },
    "327fe7e893ae4300801f8cd4cf5d3f69": {
     "model_module": "@jupyter-widgets/controls",
     "model_module_version": "1.5.0",
     "model_name": "HBoxModel",
     "state": {
      "_dom_classes": [],
      "_model_module": "@jupyter-widgets/controls",
      "_model_module_version": "1.5.0",
      "_model_name": "HBoxModel",
      "_view_count": null,
      "_view_module": "@jupyter-widgets/controls",
      "_view_module_version": "1.5.0",
      "_view_name": "HBoxView",
      "box_style": "",
      "children": [
       "IPY_MODEL_c846f38caa78485093ccf8c83aca16d2",
       "IPY_MODEL_19681bc185b94c4a85d08b318b52fe1b",
       "IPY_MODEL_83912b83b37c4a0a82f2e5ddc9681536"
      ],
      "layout": "IPY_MODEL_5d0672f220b94feb8b70d5ae99d394a7"
     }
    },
    "356b23c483204b74bdf6d89dcf5283df": {
     "model_module": "@jupyter-widgets/base",
     "model_module_version": "1.2.0",
     "model_name": "LayoutModel",
     "state": {
      "_model_module": "@jupyter-widgets/base",
      "_model_module_version": "1.2.0",
      "_model_name": "LayoutModel",
      "_view_count": null,
      "_view_module": "@jupyter-widgets/base",
      "_view_module_version": "1.2.0",
      "_view_name": "LayoutView",
      "align_content": null,
      "align_items": null,
      "align_self": null,
      "border": null,
      "bottom": null,
      "display": null,
      "flex": null,
      "flex_flow": null,
      "grid_area": null,
      "grid_auto_columns": null,
      "grid_auto_flow": null,
      "grid_auto_rows": null,
      "grid_column": null,
      "grid_gap": null,
      "grid_row": null,
      "grid_template_areas": null,
      "grid_template_columns": null,
      "grid_template_rows": null,
      "height": null,
      "justify_content": null,
      "justify_items": null,
      "left": null,
      "margin": null,
      "max_height": null,
      "max_width": null,
      "min_height": null,
      "min_width": null,
      "object_fit": null,
      "object_position": null,
      "order": null,
      "overflow": null,
      "overflow_x": null,
      "overflow_y": null,
      "padding": null,
      "right": null,
      "top": null,
      "visibility": null,
      "width": null
     }
    },
    "37982c5dec264e6c9d4005ccc2787abb": {
     "model_module": "@jupyter-widgets/controls",
     "model_module_version": "1.5.0",
     "model_name": "DescriptionStyleModel",
     "state": {
      "_model_module": "@jupyter-widgets/controls",
      "_model_module_version": "1.5.0",
      "_model_name": "DescriptionStyleModel",
      "_view_count": null,
      "_view_module": "@jupyter-widgets/base",
      "_view_module_version": "1.2.0",
      "_view_name": "StyleView",
      "description_width": ""
     }
    },
    "495e54612df34f1abf9c8f91fc3a0a90": {
     "model_module": "@jupyter-widgets/controls",
     "model_module_version": "1.5.0",
     "model_name": "HTMLModel",
     "state": {
      "_dom_classes": [],
      "_model_module": "@jupyter-widgets/controls",
      "_model_module_version": "1.5.0",
      "_model_name": "HTMLModel",
      "_view_count": null,
      "_view_module": "@jupyter-widgets/controls",
      "_view_module_version": "1.5.0",
      "_view_name": "HTMLView",
      "description": "",
      "description_tooltip": null,
      "layout": "IPY_MODEL_1d5ee2cd2bc74df1a9f12d3be8a4811a",
      "placeholder": "​",
      "style": "IPY_MODEL_fe12939567a24a40a9a7cc5ff32e4f74",
      "value": " 570/570 [00:00&lt;00:00, 13.0kB/s]"
     }
    },
    "4bc2655e5f624ad59ae93a98321049b8": {
     "model_module": "@jupyter-widgets/controls",
     "model_module_version": "1.5.0",
     "model_name": "DescriptionStyleModel",
     "state": {
      "_model_module": "@jupyter-widgets/controls",
      "_model_module_version": "1.5.0",
      "_model_name": "DescriptionStyleModel",
      "_view_count": null,
      "_view_module": "@jupyter-widgets/base",
      "_view_module_version": "1.2.0",
      "_view_name": "StyleView",
      "description_width": ""
     }
    },
    "518864691e3740cbb4908f5cb8552655": {
     "model_module": "@jupyter-widgets/base",
     "model_module_version": "1.2.0",
     "model_name": "LayoutModel",
     "state": {
      "_model_module": "@jupyter-widgets/base",
      "_model_module_version": "1.2.0",
      "_model_name": "LayoutModel",
      "_view_count": null,
      "_view_module": "@jupyter-widgets/base",
      "_view_module_version": "1.2.0",
      "_view_name": "LayoutView",
      "align_content": null,
      "align_items": null,
      "align_self": null,
      "border": null,
      "bottom": null,
      "display": null,
      "flex": null,
      "flex_flow": null,
      "grid_area": null,
      "grid_auto_columns": null,
      "grid_auto_flow": null,
      "grid_auto_rows": null,
      "grid_column": null,
      "grid_gap": null,
      "grid_row": null,
      "grid_template_areas": null,
      "grid_template_columns": null,
      "grid_template_rows": null,
      "height": null,
      "justify_content": null,
      "justify_items": null,
      "left": null,
      "margin": null,
      "max_height": null,
      "max_width": null,
      "min_height": null,
      "min_width": null,
      "object_fit": null,
      "object_position": null,
      "order": null,
      "overflow": null,
      "overflow_x": null,
      "overflow_y": null,
      "padding": null,
      "right": null,
      "top": null,
      "visibility": null,
      "width": null
     }
    },
    "5acc6e2130424fa9954c1b804ebdaeb4": {
     "model_module": "@jupyter-widgets/controls",
     "model_module_version": "1.5.0",
     "model_name": "FloatProgressModel",
     "state": {
      "_dom_classes": [],
      "_model_module": "@jupyter-widgets/controls",
      "_model_module_version": "1.5.0",
      "_model_name": "FloatProgressModel",
      "_view_count": null,
      "_view_module": "@jupyter-widgets/controls",
      "_view_module_version": "1.5.0",
      "_view_name": "ProgressView",
      "bar_style": "success",
      "description": "",
      "description_tooltip": null,
      "layout": "IPY_MODEL_e02486cb3f3a48a685aaa6c9a94c7419",
      "max": 48,
      "min": 0,
      "orientation": "horizontal",
      "style": "IPY_MODEL_1e75f8f95be942e2a6375e380e31938d",
      "value": 48
     }
    },
    "5d0672f220b94feb8b70d5ae99d394a7": {
     "model_module": "@jupyter-widgets/base",
     "model_module_version": "1.2.0",
     "model_name": "LayoutModel",
     "state": {
      "_model_module": "@jupyter-widgets/base",
      "_model_module_version": "1.2.0",
      "_model_name": "LayoutModel",
      "_view_count": null,
      "_view_module": "@jupyter-widgets/base",
      "_view_module_version": "1.2.0",
      "_view_name": "LayoutView",
      "align_content": null,
      "align_items": null,
      "align_self": null,
      "border": null,
      "bottom": null,
      "display": null,
      "flex": null,
      "flex_flow": null,
      "grid_area": null,
      "grid_auto_columns": null,
      "grid_auto_flow": null,
      "grid_auto_rows": null,
      "grid_column": null,
      "grid_gap": null,
      "grid_row": null,
      "grid_template_areas": null,
      "grid_template_columns": null,
      "grid_template_rows": null,
      "height": null,
      "justify_content": null,
      "justify_items": null,
      "left": null,
      "margin": null,
      "max_height": null,
      "max_width": null,
      "min_height": null,
      "min_width": null,
      "object_fit": null,
      "object_position": null,
      "order": null,
      "overflow": null,
      "overflow_x": null,
      "overflow_y": null,
      "padding": null,
      "right": null,
      "top": null,
      "visibility": null,
      "width": null
     }
    },
    "5f5d64b90ae949928d52c7c99e8c0bff": {
     "model_module": "@jupyter-widgets/base",
     "model_module_version": "1.2.0",
     "model_name": "LayoutModel",
     "state": {
      "_model_module": "@jupyter-widgets/base",
      "_model_module_version": "1.2.0",
      "_model_name": "LayoutModel",
      "_view_count": null,
      "_view_module": "@jupyter-widgets/base",
      "_view_module_version": "1.2.0",
      "_view_name": "LayoutView",
      "align_content": null,
      "align_items": null,
      "align_self": null,
      "border": null,
      "bottom": null,
      "display": null,
      "flex": null,
      "flex_flow": null,
      "grid_area": null,
      "grid_auto_columns": null,
      "grid_auto_flow": null,
      "grid_auto_rows": null,
      "grid_column": null,
      "grid_gap": null,
      "grid_row": null,
      "grid_template_areas": null,
      "grid_template_columns": null,
      "grid_template_rows": null,
      "height": null,
      "justify_content": null,
      "justify_items": null,
      "left": null,
      "margin": null,
      "max_height": null,
      "max_width": null,
      "min_height": null,
      "min_width": null,
      "object_fit": null,
      "object_position": null,
      "order": null,
      "overflow": null,
      "overflow_x": null,
      "overflow_y": null,
      "padding": null,
      "right": null,
      "top": null,
      "visibility": null,
      "width": null
     }
    },
    "606128da04604d47a8cfc9607583ed54": {
     "model_module": "@jupyter-widgets/controls",
     "model_module_version": "1.5.0",
     "model_name": "HTMLModel",
     "state": {
      "_dom_classes": [],
      "_model_module": "@jupyter-widgets/controls",
      "_model_module_version": "1.5.0",
      "_model_name": "HTMLModel",
      "_view_count": null,
      "_view_module": "@jupyter-widgets/controls",
      "_view_module_version": "1.5.0",
      "_view_name": "HTMLView",
      "description": "",
      "description_tooltip": null,
      "layout": "IPY_MODEL_6201f7b87991417ab919a96493660987",
      "placeholder": "​",
      "style": "IPY_MODEL_f556e0fec7ea49f48d260f682ed5fc2c",
      "value": " 232k/232k [00:00&lt;00:00, 3.35MB/s]"
     }
    },
    "6201f7b87991417ab919a96493660987": {
     "model_module": "@jupyter-widgets/base",
     "model_module_version": "1.2.0",
     "model_name": "LayoutModel",
     "state": {
      "_model_module": "@jupyter-widgets/base",
      "_model_module_version": "1.2.0",
      "_model_name": "LayoutModel",
      "_view_count": null,
      "_view_module": "@jupyter-widgets/base",
      "_view_module_version": "1.2.0",
      "_view_name": "LayoutView",
      "align_content": null,
      "align_items": null,
      "align_self": null,
      "border": null,
      "bottom": null,
      "display": null,
      "flex": null,
      "flex_flow": null,
      "grid_area": null,
      "grid_auto_columns": null,
      "grid_auto_flow": null,
      "grid_auto_rows": null,
      "grid_column": null,
      "grid_gap": null,
      "grid_row": null,
      "grid_template_areas": null,
      "grid_template_columns": null,
      "grid_template_rows": null,
      "height": null,
      "justify_content": null,
      "justify_items": null,
      "left": null,
      "margin": null,
      "max_height": null,
      "max_width": null,
      "min_height": null,
      "min_width": null,
      "object_fit": null,
      "object_position": null,
      "order": null,
      "overflow": null,
      "overflow_x": null,
      "overflow_y": null,
      "padding": null,
      "right": null,
      "top": null,
      "visibility": null,
      "width": null
     }
    },
    "627150a7aeab464082bc1a02d3affd8b": {
     "model_module": "@jupyter-widgets/controls",
     "model_module_version": "1.5.0",
     "model_name": "DescriptionStyleModel",
     "state": {
      "_model_module": "@jupyter-widgets/controls",
      "_model_module_version": "1.5.0",
      "_model_name": "DescriptionStyleModel",
      "_view_count": null,
      "_view_module": "@jupyter-widgets/base",
      "_view_module_version": "1.2.0",
      "_view_name": "StyleView",
      "description_width": ""
     }
    },
    "63d137f50d80442d9a24a1c79b39b8d3": {
     "model_module": "@jupyter-widgets/base",
     "model_module_version": "1.2.0",
     "model_name": "LayoutModel",
     "state": {
      "_model_module": "@jupyter-widgets/base",
      "_model_module_version": "1.2.0",
      "_model_name": "LayoutModel",
      "_view_count": null,
      "_view_module": "@jupyter-widgets/base",
      "_view_module_version": "1.2.0",
      "_view_name": "LayoutView",
      "align_content": null,
      "align_items": null,
      "align_self": null,
      "border": null,
      "bottom": null,
      "display": null,
      "flex": null,
      "flex_flow": null,
      "grid_area": null,
      "grid_auto_columns": null,
      "grid_auto_flow": null,
      "grid_auto_rows": null,
      "grid_column": null,
      "grid_gap": null,
      "grid_row": null,
      "grid_template_areas": null,
      "grid_template_columns": null,
      "grid_template_rows": null,
      "height": null,
      "justify_content": null,
      "justify_items": null,
      "left": null,
      "margin": null,
      "max_height": null,
      "max_width": null,
      "min_height": null,
      "min_width": null,
      "object_fit": null,
      "object_position": null,
      "order": null,
      "overflow": null,
      "overflow_x": null,
      "overflow_y": null,
      "padding": null,
      "right": null,
      "top": null,
      "visibility": null,
      "width": null
     }
    },
    "676335e34cfc47a488c4ff70125b8202": {
     "model_module": "@jupyter-widgets/base",
     "model_module_version": "1.2.0",
     "model_name": "LayoutModel",
     "state": {
      "_model_module": "@jupyter-widgets/base",
      "_model_module_version": "1.2.0",
      "_model_name": "LayoutModel",
      "_view_count": null,
      "_view_module": "@jupyter-widgets/base",
      "_view_module_version": "1.2.0",
      "_view_name": "LayoutView",
      "align_content": null,
      "align_items": null,
      "align_self": null,
      "border": null,
      "bottom": null,
      "display": null,
      "flex": null,
      "flex_flow": null,
      "grid_area": null,
      "grid_auto_columns": null,
      "grid_auto_flow": null,
      "grid_auto_rows": null,
      "grid_column": null,
      "grid_gap": null,
      "grid_row": null,
      "grid_template_areas": null,
      "grid_template_columns": null,
      "grid_template_rows": null,
      "height": null,
      "justify_content": null,
      "justify_items": null,
      "left": null,
      "margin": null,
      "max_height": null,
      "max_width": null,
      "min_height": null,
      "min_width": null,
      "object_fit": null,
      "object_position": null,
      "order": null,
      "overflow": null,
      "overflow_x": null,
      "overflow_y": null,
      "padding": null,
      "right": null,
      "top": null,
      "visibility": null,
      "width": null
     }
    },
    "67bdd1aa0dbe48aeb72d069c09612d6b": {
     "model_module": "@jupyter-widgets/controls",
     "model_module_version": "1.5.0",
     "model_name": "HTMLModel",
     "state": {
      "_dom_classes": [],
      "_model_module": "@jupyter-widgets/controls",
      "_model_module_version": "1.5.0",
      "_model_name": "HTMLModel",
      "_view_count": null,
      "_view_module": "@jupyter-widgets/controls",
      "_view_module_version": "1.5.0",
      "_view_name": "HTMLView",
      "description": "",
      "description_tooltip": null,
      "layout": "IPY_MODEL_f0a9d45b5e524a988382f8859e71a25a",
      "placeholder": "​",
      "style": "IPY_MODEL_37982c5dec264e6c9d4005ccc2787abb",
      "value": " 48.0/48.0 [00:00&lt;00:00, 1.57kB/s]"
     }
    },
    "702887c126b3418c8adc15be87bb1167": {
     "model_module": "@jupyter-widgets/controls",
     "model_module_version": "1.5.0",
     "model_name": "DescriptionStyleModel",
     "state": {
      "_model_module": "@jupyter-widgets/controls",
      "_model_module_version": "1.5.0",
      "_model_name": "DescriptionStyleModel",
      "_view_count": null,
      "_view_module": "@jupyter-widgets/base",
      "_view_module_version": "1.2.0",
      "_view_name": "StyleView",
      "description_width": ""
     }
    },
    "74b9c03afc3841c399712e22ecada4bf": {
     "model_module": "@jupyter-widgets/controls",
     "model_module_version": "1.5.0",
     "model_name": "HTMLModel",
     "state": {
      "_dom_classes": [],
      "_model_module": "@jupyter-widgets/controls",
      "_model_module_version": "1.5.0",
      "_model_name": "HTMLModel",
      "_view_count": null,
      "_view_module": "@jupyter-widgets/controls",
      "_view_module_version": "1.5.0",
      "_view_name": "HTMLView",
      "description": "",
      "description_tooltip": null,
      "layout": "IPY_MODEL_5f5d64b90ae949928d52c7c99e8c0bff",
      "placeholder": "​",
      "style": "IPY_MODEL_702887c126b3418c8adc15be87bb1167",
      "value": "vocab.txt: 100%"
     }
    },
    "76f402692ec14c48a1e2faabef1f8f50": {
     "model_module": "@jupyter-widgets/base",
     "model_module_version": "1.2.0",
     "model_name": "LayoutModel",
     "state": {
      "_model_module": "@jupyter-widgets/base",
      "_model_module_version": "1.2.0",
      "_model_name": "LayoutModel",
      "_view_count": null,
      "_view_module": "@jupyter-widgets/base",
      "_view_module_version": "1.2.0",
      "_view_name": "LayoutView",
      "align_content": null,
      "align_items": null,
      "align_self": null,
      "border": null,
      "bottom": null,
      "display": null,
      "flex": null,
      "flex_flow": null,
      "grid_area": null,
      "grid_auto_columns": null,
      "grid_auto_flow": null,
      "grid_auto_rows": null,
      "grid_column": null,
      "grid_gap": null,
      "grid_row": null,
      "grid_template_areas": null,
      "grid_template_columns": null,
      "grid_template_rows": null,
      "height": null,
      "justify_content": null,
      "justify_items": null,
      "left": null,
      "margin": null,
      "max_height": null,
      "max_width": null,
      "min_height": null,
      "min_width": null,
      "object_fit": null,
      "object_position": null,
      "order": null,
      "overflow": null,
      "overflow_x": null,
      "overflow_y": null,
      "padding": null,
      "right": null,
      "top": null,
      "visibility": null,
      "width": null
     }
    },
    "7d46d68e26dd44c8a03b939945c188a4": {
     "model_module": "@jupyter-widgets/base",
     "model_module_version": "1.2.0",
     "model_name": "LayoutModel",
     "state": {
      "_model_module": "@jupyter-widgets/base",
      "_model_module_version": "1.2.0",
      "_model_name": "LayoutModel",
      "_view_count": null,
      "_view_module": "@jupyter-widgets/base",
      "_view_module_version": "1.2.0",
      "_view_name": "LayoutView",
      "align_content": null,
      "align_items": null,
      "align_self": null,
      "border": null,
      "bottom": null,
      "display": null,
      "flex": null,
      "flex_flow": null,
      "grid_area": null,
      "grid_auto_columns": null,
      "grid_auto_flow": null,
      "grid_auto_rows": null,
      "grid_column": null,
      "grid_gap": null,
      "grid_row": null,
      "grid_template_areas": null,
      "grid_template_columns": null,
      "grid_template_rows": null,
      "height": null,
      "justify_content": null,
      "justify_items": null,
      "left": null,
      "margin": null,
      "max_height": null,
      "max_width": null,
      "min_height": null,
      "min_width": null,
      "object_fit": null,
      "object_position": null,
      "order": null,
      "overflow": null,
      "overflow_x": null,
      "overflow_y": null,
      "padding": null,
      "right": null,
      "top": null,
      "visibility": null,
      "width": null
     }
    },
    "83912b83b37c4a0a82f2e5ddc9681536": {
     "model_module": "@jupyter-widgets/controls",
     "model_module_version": "1.5.0",
     "model_name": "HTMLModel",
     "state": {
      "_dom_classes": [],
      "_model_module": "@jupyter-widgets/controls",
      "_model_module_version": "1.5.0",
      "_model_name": "HTMLModel",
      "_view_count": null,
      "_view_module": "@jupyter-widgets/controls",
      "_view_module_version": "1.5.0",
      "_view_name": "HTMLView",
      "description": "",
      "description_tooltip": null,
      "layout": "IPY_MODEL_7d46d68e26dd44c8a03b939945c188a4",
      "placeholder": "​",
      "style": "IPY_MODEL_4bc2655e5f624ad59ae93a98321049b8",
      "value": " 440M/440M [00:01&lt;00:00, 278MB/s]"
     }
    },
    "8401f16161074461ba4f9afadd5be735": {
     "model_module": "@jupyter-widgets/controls",
     "model_module_version": "1.5.0",
     "model_name": "FloatProgressModel",
     "state": {
      "_dom_classes": [],
      "_model_module": "@jupyter-widgets/controls",
      "_model_module_version": "1.5.0",
      "_model_name": "FloatProgressModel",
      "_view_count": null,
      "_view_module": "@jupyter-widgets/controls",
      "_view_module_version": "1.5.0",
      "_view_name": "ProgressView",
      "bar_style": "success",
      "description": "",
      "description_tooltip": null,
      "layout": "IPY_MODEL_356b23c483204b74bdf6d89dcf5283df",
      "max": 466062,
      "min": 0,
      "orientation": "horizontal",
      "style": "IPY_MODEL_c5f0ce4fdebc407b8228002a8f07adee",
      "value": 466062
     }
    },
    "883e056fdbd2490a8c66c1e3dbd19825": {
     "model_module": "@jupyter-widgets/controls",
     "model_module_version": "1.5.0",
     "model_name": "DescriptionStyleModel",
     "state": {
      "_model_module": "@jupyter-widgets/controls",
      "_model_module_version": "1.5.0",
      "_model_name": "DescriptionStyleModel",
      "_view_count": null,
      "_view_module": "@jupyter-widgets/base",
      "_view_module_version": "1.2.0",
      "_view_name": "StyleView",
      "description_width": ""
     }
    },
    "8ad2ec12304a4d3eb71dfc92dd10119c": {
     "model_module": "@jupyter-widgets/controls",
     "model_module_version": "1.5.0",
     "model_name": "HTMLModel",
     "state": {
      "_dom_classes": [],
      "_model_module": "@jupyter-widgets/controls",
      "_model_module_version": "1.5.0",
      "_model_name": "HTMLModel",
      "_view_count": null,
      "_view_module": "@jupyter-widgets/controls",
      "_view_module_version": "1.5.0",
      "_view_name": "HTMLView",
      "description": "",
      "description_tooltip": null,
      "layout": "IPY_MODEL_e477be37965d4e49b7d28d957dadc161",
      "placeholder": "​",
      "style": "IPY_MODEL_627150a7aeab464082bc1a02d3affd8b",
      "value": "tokenizer_config.json: 100%"
     }
    },
    "8f4956d329914ee0ab4ffa84721ce21b": {
     "model_module": "@jupyter-widgets/controls",
     "model_module_version": "1.5.0",
     "model_name": "HBoxModel",
     "state": {
      "_dom_classes": [],
      "_model_module": "@jupyter-widgets/controls",
      "_model_module_version": "1.5.0",
      "_model_name": "HBoxModel",
      "_view_count": null,
      "_view_module": "@jupyter-widgets/controls",
      "_view_module_version": "1.5.0",
      "_view_name": "HBoxView",
      "box_style": "",
      "children": [
       "IPY_MODEL_8ad2ec12304a4d3eb71dfc92dd10119c",
       "IPY_MODEL_5acc6e2130424fa9954c1b804ebdaeb4",
       "IPY_MODEL_67bdd1aa0dbe48aeb72d069c09612d6b"
      ],
      "layout": "IPY_MODEL_b46855d35bd84402afe3f741a3f1e1ed"
     }
    },
    "960585b001814cb2b7a7f19d19f77438": {
     "model_module": "@jupyter-widgets/controls",
     "model_module_version": "1.5.0",
     "model_name": "HBoxModel",
     "state": {
      "_dom_classes": [],
      "_model_module": "@jupyter-widgets/controls",
      "_model_module_version": "1.5.0",
      "_model_name": "HBoxModel",
      "_view_count": null,
      "_view_module": "@jupyter-widgets/controls",
      "_view_module_version": "1.5.0",
      "_view_name": "HBoxView",
      "box_style": "",
      "children": [
       "IPY_MODEL_cf6d57515555402dbcddd341883daee2",
       "IPY_MODEL_db4e10d35c174ca3aaf5cfdfeca56842",
       "IPY_MODEL_495e54612df34f1abf9c8f91fc3a0a90"
      ],
      "layout": "IPY_MODEL_b89f136db16040db833cbea69cb733f7"
     }
    },
    "a09bb005a4eb48e09065a7392b4d5274": {
     "model_module": "@jupyter-widgets/controls",
     "model_module_version": "1.5.0",
     "model_name": "DescriptionStyleModel",
     "state": {
      "_model_module": "@jupyter-widgets/controls",
      "_model_module_version": "1.5.0",
      "_model_name": "DescriptionStyleModel",
      "_view_count": null,
      "_view_module": "@jupyter-widgets/base",
      "_view_module_version": "1.2.0",
      "_view_name": "StyleView",
      "description_width": ""
     }
    },
    "a70e522ddab64f7286b8f111bd80b899": {
     "model_module": "@jupyter-widgets/base",
     "model_module_version": "1.2.0",
     "model_name": "LayoutModel",
     "state": {
      "_model_module": "@jupyter-widgets/base",
      "_model_module_version": "1.2.0",
      "_model_name": "LayoutModel",
      "_view_count": null,
      "_view_module": "@jupyter-widgets/base",
      "_view_module_version": "1.2.0",
      "_view_name": "LayoutView",
      "align_content": null,
      "align_items": null,
      "align_self": null,
      "border": null,
      "bottom": null,
      "display": null,
      "flex": null,
      "flex_flow": null,
      "grid_area": null,
      "grid_auto_columns": null,
      "grid_auto_flow": null,
      "grid_auto_rows": null,
      "grid_column": null,
      "grid_gap": null,
      "grid_row": null,
      "grid_template_areas": null,
      "grid_template_columns": null,
      "grid_template_rows": null,
      "height": null,
      "justify_content": null,
      "justify_items": null,
      "left": null,
      "margin": null,
      "max_height": null,
      "max_width": null,
      "min_height": null,
      "min_width": null,
      "object_fit": null,
      "object_position": null,
      "order": null,
      "overflow": null,
      "overflow_x": null,
      "overflow_y": null,
      "padding": null,
      "right": null,
      "top": null,
      "visibility": null,
      "width": null
     }
    },
    "af107454c40a49078cc5ace8573a7a83": {
     "model_module": "@jupyter-widgets/controls",
     "model_module_version": "1.5.0",
     "model_name": "HTMLModel",
     "state": {
      "_dom_classes": [],
      "_model_module": "@jupyter-widgets/controls",
      "_model_module_version": "1.5.0",
      "_model_name": "HTMLModel",
      "_view_count": null,
      "_view_module": "@jupyter-widgets/controls",
      "_view_module_version": "1.5.0",
      "_view_name": "HTMLView",
      "description": "",
      "description_tooltip": null,
      "layout": "IPY_MODEL_518864691e3740cbb4908f5cb8552655",
      "placeholder": "​",
      "style": "IPY_MODEL_883e056fdbd2490a8c66c1e3dbd19825",
      "value": " 466k/466k [00:00&lt;00:00, 2.36MB/s]"
     }
    },
    "b20c18853a0e48138b8193e01c630fe4": {
     "model_module": "@jupyter-widgets/controls",
     "model_module_version": "1.5.0",
     "model_name": "FloatProgressModel",
     "state": {
      "_dom_classes": [],
      "_model_module": "@jupyter-widgets/controls",
      "_model_module_version": "1.5.0",
      "_model_name": "FloatProgressModel",
      "_view_count": null,
      "_view_module": "@jupyter-widgets/controls",
      "_view_module_version": "1.5.0",
      "_view_name": "ProgressView",
      "bar_style": "success",
      "description": "",
      "description_tooltip": null,
      "layout": "IPY_MODEL_fefffbdd107b43ff8f50ee8f69436eb2",
      "max": 231508,
      "min": 0,
      "orientation": "horizontal",
      "style": "IPY_MODEL_b27e3fcab70e4b44a0d618e7c4df9206",
      "value": 231508
     }
    },
    "b27e3fcab70e4b44a0d618e7c4df9206": {
     "model_module": "@jupyter-widgets/controls",
     "model_module_version": "1.5.0",
     "model_name": "ProgressStyleModel",
     "state": {
      "_model_module": "@jupyter-widgets/controls",
      "_model_module_version": "1.5.0",
      "_model_name": "ProgressStyleModel",
      "_view_count": null,
      "_view_module": "@jupyter-widgets/base",
      "_view_module_version": "1.2.0",
      "_view_name": "StyleView",
      "bar_color": null,
      "description_width": ""
     }
    },
    "b46855d35bd84402afe3f741a3f1e1ed": {
     "model_module": "@jupyter-widgets/base",
     "model_module_version": "1.2.0",
     "model_name": "LayoutModel",
     "state": {
      "_model_module": "@jupyter-widgets/base",
      "_model_module_version": "1.2.0",
      "_model_name": "LayoutModel",
      "_view_count": null,
      "_view_module": "@jupyter-widgets/base",
      "_view_module_version": "1.2.0",
      "_view_name": "LayoutView",
      "align_content": null,
      "align_items": null,
      "align_self": null,
      "border": null,
      "bottom": null,
      "display": null,
      "flex": null,
      "flex_flow": null,
      "grid_area": null,
      "grid_auto_columns": null,
      "grid_auto_flow": null,
      "grid_auto_rows": null,
      "grid_column": null,
      "grid_gap": null,
      "grid_row": null,
      "grid_template_areas": null,
      "grid_template_columns": null,
      "grid_template_rows": null,
      "height": null,
      "justify_content": null,
      "justify_items": null,
      "left": null,
      "margin": null,
      "max_height": null,
      "max_width": null,
      "min_height": null,
      "min_width": null,
      "object_fit": null,
      "object_position": null,
      "order": null,
      "overflow": null,
      "overflow_x": null,
      "overflow_y": null,
      "padding": null,
      "right": null,
      "top": null,
      "visibility": null,
      "width": null
     }
    },
    "b757a554e35742a793f12c7fbc7dcd47": {
     "model_module": "@jupyter-widgets/controls",
     "model_module_version": "1.5.0",
     "model_name": "HTMLModel",
     "state": {
      "_dom_classes": [],
      "_model_module": "@jupyter-widgets/controls",
      "_model_module_version": "1.5.0",
      "_model_name": "HTMLModel",
      "_view_count": null,
      "_view_module": "@jupyter-widgets/controls",
      "_view_module_version": "1.5.0",
      "_view_name": "HTMLView",
      "description": "",
      "description_tooltip": null,
      "layout": "IPY_MODEL_060b4afdb40044848d8e2e1acc7dc42d",
      "placeholder": "​",
      "style": "IPY_MODEL_a09bb005a4eb48e09065a7392b4d5274",
      "value": "tokenizer.json: 100%"
     }
    },
    "b89f136db16040db833cbea69cb733f7": {
     "model_module": "@jupyter-widgets/base",
     "model_module_version": "1.2.0",
     "model_name": "LayoutModel",
     "state": {
      "_model_module": "@jupyter-widgets/base",
      "_model_module_version": "1.2.0",
      "_model_name": "LayoutModel",
      "_view_count": null,
      "_view_module": "@jupyter-widgets/base",
      "_view_module_version": "1.2.0",
      "_view_name": "LayoutView",
      "align_content": null,
      "align_items": null,
      "align_self": null,
      "border": null,
      "bottom": null,
      "display": null,
      "flex": null,
      "flex_flow": null,
      "grid_area": null,
      "grid_auto_columns": null,
      "grid_auto_flow": null,
      "grid_auto_rows": null,
      "grid_column": null,
      "grid_gap": null,
      "grid_row": null,
      "grid_template_areas": null,
      "grid_template_columns": null,
      "grid_template_rows": null,
      "height": null,
      "justify_content": null,
      "justify_items": null,
      "left": null,
      "margin": null,
      "max_height": null,
      "max_width": null,
      "min_height": null,
      "min_width": null,
      "object_fit": null,
      "object_position": null,
      "order": null,
      "overflow": null,
      "overflow_x": null,
      "overflow_y": null,
      "padding": null,
      "right": null,
      "top": null,
      "visibility": null,
      "width": null
     }
    },
    "bac2ed7cc9f3467d83da98b9be5b94ee": {
     "model_module": "@jupyter-widgets/controls",
     "model_module_version": "1.5.0",
     "model_name": "ProgressStyleModel",
     "state": {
      "_model_module": "@jupyter-widgets/controls",
      "_model_module_version": "1.5.0",
      "_model_name": "ProgressStyleModel",
      "_view_count": null,
      "_view_module": "@jupyter-widgets/base",
      "_view_module_version": "1.2.0",
      "_view_name": "StyleView",
      "bar_color": null,
      "description_width": ""
     }
    },
    "c5f0ce4fdebc407b8228002a8f07adee": {
     "model_module": "@jupyter-widgets/controls",
     "model_module_version": "1.5.0",
     "model_name": "ProgressStyleModel",
     "state": {
      "_model_module": "@jupyter-widgets/controls",
      "_model_module_version": "1.5.0",
      "_model_name": "ProgressStyleModel",
      "_view_count": null,
      "_view_module": "@jupyter-widgets/base",
      "_view_module_version": "1.2.0",
      "_view_name": "StyleView",
      "bar_color": null,
      "description_width": ""
     }
    },
    "c846f38caa78485093ccf8c83aca16d2": {
     "model_module": "@jupyter-widgets/controls",
     "model_module_version": "1.5.0",
     "model_name": "HTMLModel",
     "state": {
      "_dom_classes": [],
      "_model_module": "@jupyter-widgets/controls",
      "_model_module_version": "1.5.0",
      "_model_name": "HTMLModel",
      "_view_count": null,
      "_view_module": "@jupyter-widgets/controls",
      "_view_module_version": "1.5.0",
      "_view_name": "HTMLView",
      "description": "",
      "description_tooltip": null,
      "layout": "IPY_MODEL_676335e34cfc47a488c4ff70125b8202",
      "placeholder": "​",
      "style": "IPY_MODEL_d60b2cbd233646ff8e4936a32f6cd719",
      "value": "model.safetensors: 100%"
     }
    },
    "c9e3ac288eda4ba2867b0035fc7c324c": {
     "model_module": "@jupyter-widgets/controls",
     "model_module_version": "1.5.0",
     "model_name": "ProgressStyleModel",
     "state": {
      "_model_module": "@jupyter-widgets/controls",
      "_model_module_version": "1.5.0",
      "_model_name": "ProgressStyleModel",
      "_view_count": null,
      "_view_module": "@jupyter-widgets/base",
      "_view_module_version": "1.2.0",
      "_view_name": "StyleView",
      "bar_color": null,
      "description_width": ""
     }
    },
    "cf6d57515555402dbcddd341883daee2": {
     "model_module": "@jupyter-widgets/controls",
     "model_module_version": "1.5.0",
     "model_name": "HTMLModel",
     "state": {
      "_dom_classes": [],
      "_model_module": "@jupyter-widgets/controls",
      "_model_module_version": "1.5.0",
      "_model_name": "HTMLModel",
      "_view_count": null,
      "_view_module": "@jupyter-widgets/controls",
      "_view_module_version": "1.5.0",
      "_view_name": "HTMLView",
      "description": "",
      "description_tooltip": null,
      "layout": "IPY_MODEL_225836a0ba234e41ba2a7b20dbbc8514",
      "placeholder": "​",
      "style": "IPY_MODEL_0fcbb721963748d789d7eb309af3a859",
      "value": "config.json: 100%"
     }
    },
    "d60b2cbd233646ff8e4936a32f6cd719": {
     "model_module": "@jupyter-widgets/controls",
     "model_module_version": "1.5.0",
     "model_name": "DescriptionStyleModel",
     "state": {
      "_model_module": "@jupyter-widgets/controls",
      "_model_module_version": "1.5.0",
      "_model_name": "DescriptionStyleModel",
      "_view_count": null,
      "_view_module": "@jupyter-widgets/base",
      "_view_module_version": "1.2.0",
      "_view_name": "StyleView",
      "description_width": ""
     }
    },
    "db4e10d35c174ca3aaf5cfdfeca56842": {
     "model_module": "@jupyter-widgets/controls",
     "model_module_version": "1.5.0",
     "model_name": "FloatProgressModel",
     "state": {
      "_dom_classes": [],
      "_model_module": "@jupyter-widgets/controls",
      "_model_module_version": "1.5.0",
      "_model_name": "FloatProgressModel",
      "_view_count": null,
      "_view_module": "@jupyter-widgets/controls",
      "_view_module_version": "1.5.0",
      "_view_name": "ProgressView",
      "bar_style": "success",
      "description": "",
      "description_tooltip": null,
      "layout": "IPY_MODEL_fca52ff4cc17489d96a8cea83d2a1c1a",
      "max": 570,
      "min": 0,
      "orientation": "horizontal",
      "style": "IPY_MODEL_bac2ed7cc9f3467d83da98b9be5b94ee",
      "value": 570
     }
    },
    "e02486cb3f3a48a685aaa6c9a94c7419": {
     "model_module": "@jupyter-widgets/base",
     "model_module_version": "1.2.0",
     "model_name": "LayoutModel",
     "state": {
      "_model_module": "@jupyter-widgets/base",
      "_model_module_version": "1.2.0",
      "_model_name": "LayoutModel",
      "_view_count": null,
      "_view_module": "@jupyter-widgets/base",
      "_view_module_version": "1.2.0",
      "_view_name": "LayoutView",
      "align_content": null,
      "align_items": null,
      "align_self": null,
      "border": null,
      "bottom": null,
      "display": null,
      "flex": null,
      "flex_flow": null,
      "grid_area": null,
      "grid_auto_columns": null,
      "grid_auto_flow": null,
      "grid_auto_rows": null,
      "grid_column": null,
      "grid_gap": null,
      "grid_row": null,
      "grid_template_areas": null,
      "grid_template_columns": null,
      "grid_template_rows": null,
      "height": null,
      "justify_content": null,
      "justify_items": null,
      "left": null,
      "margin": null,
      "max_height": null,
      "max_width": null,
      "min_height": null,
      "min_width": null,
      "object_fit": null,
      "object_position": null,
      "order": null,
      "overflow": null,
      "overflow_x": null,
      "overflow_y": null,
      "padding": null,
      "right": null,
      "top": null,
      "visibility": null,
      "width": null
     }
    },
    "e477be37965d4e49b7d28d957dadc161": {
     "model_module": "@jupyter-widgets/base",
     "model_module_version": "1.2.0",
     "model_name": "LayoutModel",
     "state": {
      "_model_module": "@jupyter-widgets/base",
      "_model_module_version": "1.2.0",
      "_model_name": "LayoutModel",
      "_view_count": null,
      "_view_module": "@jupyter-widgets/base",
      "_view_module_version": "1.2.0",
      "_view_name": "LayoutView",
      "align_content": null,
      "align_items": null,
      "align_self": null,
      "border": null,
      "bottom": null,
      "display": null,
      "flex": null,
      "flex_flow": null,
      "grid_area": null,
      "grid_auto_columns": null,
      "grid_auto_flow": null,
      "grid_auto_rows": null,
      "grid_column": null,
      "grid_gap": null,
      "grid_row": null,
      "grid_template_areas": null,
      "grid_template_columns": null,
      "grid_template_rows": null,
      "height": null,
      "justify_content": null,
      "justify_items": null,
      "left": null,
      "margin": null,
      "max_height": null,
      "max_width": null,
      "min_height": null,
      "min_width": null,
      "object_fit": null,
      "object_position": null,
      "order": null,
      "overflow": null,
      "overflow_x": null,
      "overflow_y": null,
      "padding": null,
      "right": null,
      "top": null,
      "visibility": null,
      "width": null
     }
    },
    "f0a9d45b5e524a988382f8859e71a25a": {
     "model_module": "@jupyter-widgets/base",
     "model_module_version": "1.2.0",
     "model_name": "LayoutModel",
     "state": {
      "_model_module": "@jupyter-widgets/base",
      "_model_module_version": "1.2.0",
      "_model_name": "LayoutModel",
      "_view_count": null,
      "_view_module": "@jupyter-widgets/base",
      "_view_module_version": "1.2.0",
      "_view_name": "LayoutView",
      "align_content": null,
      "align_items": null,
      "align_self": null,
      "border": null,
      "bottom": null,
      "display": null,
      "flex": null,
      "flex_flow": null,
      "grid_area": null,
      "grid_auto_columns": null,
      "grid_auto_flow": null,
      "grid_auto_rows": null,
      "grid_column": null,
      "grid_gap": null,
      "grid_row": null,
      "grid_template_areas": null,
      "grid_template_columns": null,
      "grid_template_rows": null,
      "height": null,
      "justify_content": null,
      "justify_items": null,
      "left": null,
      "margin": null,
      "max_height": null,
      "max_width": null,
      "min_height": null,
      "min_width": null,
      "object_fit": null,
      "object_position": null,
      "order": null,
      "overflow": null,
      "overflow_x": null,
      "overflow_y": null,
      "padding": null,
      "right": null,
      "top": null,
      "visibility": null,
      "width": null
     }
    },
    "f556e0fec7ea49f48d260f682ed5fc2c": {
     "model_module": "@jupyter-widgets/controls",
     "model_module_version": "1.5.0",
     "model_name": "DescriptionStyleModel",
     "state": {
      "_model_module": "@jupyter-widgets/controls",
      "_model_module_version": "1.5.0",
      "_model_name": "DescriptionStyleModel",
      "_view_count": null,
      "_view_module": "@jupyter-widgets/base",
      "_view_module_version": "1.2.0",
      "_view_name": "StyleView",
      "description_width": ""
     }
    },
    "f860f427d6de46f1b23c88b7782646de": {
     "model_module": "@jupyter-widgets/controls",
     "model_module_version": "1.5.0",
     "model_name": "HBoxModel",
     "state": {
      "_dom_classes": [],
      "_model_module": "@jupyter-widgets/controls",
      "_model_module_version": "1.5.0",
      "_model_name": "HBoxModel",
      "_view_count": null,
      "_view_module": "@jupyter-widgets/controls",
      "_view_module_version": "1.5.0",
      "_view_name": "HBoxView",
      "box_style": "",
      "children": [
       "IPY_MODEL_74b9c03afc3841c399712e22ecada4bf",
       "IPY_MODEL_b20c18853a0e48138b8193e01c630fe4",
       "IPY_MODEL_606128da04604d47a8cfc9607583ed54"
      ],
      "layout": "IPY_MODEL_76f402692ec14c48a1e2faabef1f8f50"
     }
    },
    "fca52ff4cc17489d96a8cea83d2a1c1a": {
     "model_module": "@jupyter-widgets/base",
     "model_module_version": "1.2.0",
     "model_name": "LayoutModel",
     "state": {
      "_model_module": "@jupyter-widgets/base",
      "_model_module_version": "1.2.0",
      "_model_name": "LayoutModel",
      "_view_count": null,
      "_view_module": "@jupyter-widgets/base",
      "_view_module_version": "1.2.0",
      "_view_name": "LayoutView",
      "align_content": null,
      "align_items": null,
      "align_self": null,
      "border": null,
      "bottom": null,
      "display": null,
      "flex": null,
      "flex_flow": null,
      "grid_area": null,
      "grid_auto_columns": null,
      "grid_auto_flow": null,
      "grid_auto_rows": null,
      "grid_column": null,
      "grid_gap": null,
      "grid_row": null,
      "grid_template_areas": null,
      "grid_template_columns": null,
      "grid_template_rows": null,
      "height": null,
      "justify_content": null,
      "justify_items": null,
      "left": null,
      "margin": null,
      "max_height": null,
      "max_width": null,
      "min_height": null,
      "min_width": null,
      "object_fit": null,
      "object_position": null,
      "order": null,
      "overflow": null,
      "overflow_x": null,
      "overflow_y": null,
      "padding": null,
      "right": null,
      "top": null,
      "visibility": null,
      "width": null
     }
    },
    "fe12939567a24a40a9a7cc5ff32e4f74": {
     "model_module": "@jupyter-widgets/controls",
     "model_module_version": "1.5.0",
     "model_name": "DescriptionStyleModel",
     "state": {
      "_model_module": "@jupyter-widgets/controls",
      "_model_module_version": "1.5.0",
      "_model_name": "DescriptionStyleModel",
      "_view_count": null,
      "_view_module": "@jupyter-widgets/base",
      "_view_module_version": "1.2.0",
      "_view_name": "StyleView",
      "description_width": ""
     }
    },
    "fefffbdd107b43ff8f50ee8f69436eb2": {
     "model_module": "@jupyter-widgets/base",
     "model_module_version": "1.2.0",
     "model_name": "LayoutModel",
     "state": {
      "_model_module": "@jupyter-widgets/base",
      "_model_module_version": "1.2.0",
      "_model_name": "LayoutModel",
      "_view_count": null,
      "_view_module": "@jupyter-widgets/base",
      "_view_module_version": "1.2.0",
      "_view_name": "LayoutView",
      "align_content": null,
      "align_items": null,
      "align_self": null,
      "border": null,
      "bottom": null,
      "display": null,
      "flex": null,
      "flex_flow": null,
      "grid_area": null,
      "grid_auto_columns": null,
      "grid_auto_flow": null,
      "grid_auto_rows": null,
      "grid_column": null,
      "grid_gap": null,
      "grid_row": null,
      "grid_template_areas": null,
      "grid_template_columns": null,
      "grid_template_rows": null,
      "height": null,
      "justify_content": null,
      "justify_items": null,
      "left": null,
      "margin": null,
      "max_height": null,
      "max_width": null,
      "min_height": null,
      "min_width": null,
      "object_fit": null,
      "object_position": null,
      "order": null,
      "overflow": null,
      "overflow_x": null,
      "overflow_y": null,
      "padding": null,
      "right": null,
      "top": null,
      "visibility": null,
      "width": null
     }
    }
   }
  }
 },
 "nbformat": 4,
 "nbformat_minor": 1
}
